{
 "cells": [
  {
   "cell_type": "markdown",
   "metadata": {
    "id": "CWEcnRQ1GriU"
   },
   "source": [
    "# IIBM Bootcamp 2025: Day 5 Morning\n",
    "\n",
    "### Instructors Carlos Valle (cgvalle@uc.cl) and Nicolás Garrido (nagarrido@uc.cl)\n",
    "\n",
    "\n",
    "This jupyter notebook will cover linear equations and basics solvers in Python \n",
    "\n",
    "Content of the day:\n",
    "* Linear equations\n",
    "* Solving linear equations\n",
    "* Exercises\n",
    "* Final presentation\n"
   ]
  },
  {
   "cell_type": "markdown",
   "metadata": {
    "id": "Kk6PrxyyUxlu"
   },
   "source": [
    "# Linear Equations\n",
    "\n",
    "It is an equation for a straight line whose points make up the collection of solutions of the equation.\n",
    "\n",
    "```\n",
    "Q: What we can represent in a straight line? \n",
    "A: Any constant rate of growth\n",
    "```\n",
    "*For example*, a constant rate of change of: velocity, drug activation, growth of a living organisms, decrease of a population, etc. "
   ]
  },
  {
   "cell_type": "code",
   "execution_count": null,
   "metadata": {
    "colab": {
     "base_uri": "https://localhost:8080/",
     "height": 575
    },
    "executionInfo": {
     "elapsed": 6,
     "status": "ok",
     "timestamp": 1672078621193,
     "user": {
      "displayName": "GAB VARGAS",
      "userId": "11481520464127115181"
     },
     "user_tz": 180
    },
    "id": "4W2DMO_QU5Wg",
    "outputId": "b08366d0-ce3c-421c-a35c-28f81b51f6c6"
   },
   "outputs": [
    {
     "data": {
      "image/png": "[encoded data removed]",
      "text/plain": [
       "<Figure size 720x720 with 1 Axes>"
      ]
     },
     "metadata": {
      "needs_background": "light"
     },
     "output_type": "display_data"
    }
   ],
   "source": [
    "# A LINE\n",
    "import matplotlib.pyplot as plt\n",
    "import numpy as np\n",
    "\n",
    "plt.style.use('seaborn-pastel') # try other style\n",
    "\n",
    "fig = plt.figure(figsize=(10, 10))\n",
    "ax = fig.add_subplot(1, 1, 1)\n",
    "x = np.linspace(1, 10, 10)\n",
    "y = x\n",
    "ax.set_axis_off()\n",
    "plt.plot(x,y)\n",
    "plt.show()"
   ]
  },
  {
   "cell_type": "markdown",
   "metadata": {
    "id": "KT-v0FY7Q_PE"
   },
   "source": [
    "\n",
    "We already know how to found the rate of change of something by finding their derivatives!\n",
    "\n",
    "If that rate of change of some quantity with respect to (w.r.t) an independen viariable is constant we say it is a  **linear process**\n"
   ]
  },
  {
   "cell_type": "markdown",
   "metadata": {
    "id": "bvQuspUu03CV"
   },
   "source": [
    "# Solving a system of linear equation with three unknown variables\n",
    "\n",
    "\n",
    "\n"
   ]
  },
  {
   "cell_type": "markdown",
   "metadata": {
    "id": "Ql3KaTsu7cVY"
   },
   "source": [
    "\n",
    "Solving an equation means finding the value or values for which the expressions-variables-quantities on each side of the equals sign are equal.\n",
    "\n",
    "There are multiple ways to solve such a system. Here we will solve by the matrix solution using ```numpy```\n",
    "\n",
    "\n",
    "\n",
    "Now we are going to solve a system of linear equation with 3 unknown variables: x, y and z ``` (Equation 1) ```\n",
    "\n",
    "\n",
    "```\n",
    "2x - 4y + 4z = 8\n",
    "34x + 3y -z = 30\n",
    "x + y + z = 108       (Equation 1)\n",
    "```\n",
    "\n",
    "In the matrix solution, the system of linear equations to be solved is represented in the form of matrix \n",
    "```\n",
    "AX = B     \n",
    "```\n",
    "We can represent Equation 1 in the form of a matrix as follows:\n",
    "```\n",
    "A= [[2 -4 4]\n",
    "    [34 3 -1]\n",
    "    [1 1 1]]\n",
    "\n",
    "X = [[x]\n",
    "     [y]\n",
    "     [z]]\n",
    "\n",
    "B = [[8]\n",
    "     [30]\n",
    "     [108]]\n",
    "  \n",
    "```\n",
    "\n",
    "To find the value of x and y variables in Equation 1, we need to find the values in the matrix X. \n",
    "To do so, we can take the dot product of the inverse of matrix A, and the matrix B:\n"
   ]
  },
  {
   "cell_type": "markdown",
   "metadata": {
    "id": "xDYXiu2W_C1i"
   },
   "source": [
    "## Solving a System of Linear Equations with Numpy\n"
   ]
  },
  {
   "cell_type": "code",
   "execution_count": null,
   "metadata": {
    "colab": {
     "base_uri": "https://localhost:8080/",
     "height": 42
    },
    "executionInfo": {
     "elapsed": 390,
     "status": "ok",
     "timestamp": 1642632191059,
     "user": {
      "displayName": "GAB VARGAS",
      "photoUrl": "https://lh3.googleusercontent.com/a/default-user=s64",
      "userId": "11481520464127115181"
     },
     "user_tz": 180
    },
    "id": "rSZ6yi1L_NVl",
    "outputId": "aa912018-628e-499e-a36d-97a6b0f46820"
   },
   "outputs": [
    {
     "data": {
      "application/vnd.google.colaboratory.intrinsic+json": {
       "type": "string"
      },
      "text/plain": [
       "'<TO DO>'"
      ]
     },
     "execution_count": 22,
     "metadata": {},
     "output_type": "execute_result"
    }
   ],
   "source": [
    "## WRITE AND SOLVE THE LINEAR EQUATION SYSTEM  by the matrix solution\n",
    "'<TO DO>'"
   ]
  },
  {
   "cell_type": "code",
   "execution_count": null,
   "metadata": {
    "id": "s-a47Opmvum3"
   },
   "outputs": [],
   "source": [
    "import numpy as np\n",
    "import matplotlib.pyplot as plt\n",
    "A= np.array([[2, -4, 4], [34, 3, -1], [1, 1, 1 ] ])\n",
    "B= np.array([[8], [30], [108]])"
   ]
  },
  {
   "cell_type": "code",
   "execution_count": null,
   "metadata": {
    "colab": {
     "base_uri": "https://localhost:8080/",
     "height": 43
    },
    "executionInfo": {
     "elapsed": 269,
     "status": "ok",
     "timestamp": 1642763488765,
     "user": {
      "displayName": "GAB VARGAS",
      "photoUrl": "https://lh3.googleusercontent.com/a/default-user=s64",
      "userId": "11481520464127115181"
     },
     "user_tz": 180
    },
    "id": "1iye3Y_xVTC_",
    "outputId": "b9fd08f5-27af-4669-a4d8-260b0ed6bc69"
   },
   "outputs": [
    {
     "data": {
      "application/vnd.google.colaboratory.intrinsic+json": {
       "type": "string"
      },
      "text/plain": [
       "'<TO DO>'"
      ]
     },
     "execution_count": 48,
     "metadata": {},
     "output_type": "execute_result"
    }
   ],
   "source": [
    "#Check the dot multiplication between A and its inverse\n",
    "'<TO DO>'"
   ]
  },
  {
   "cell_type": "code",
   "execution_count": null,
   "metadata": {
    "id": "HSObzEygv6av"
   },
   "outputs": [],
   "source": [
    "A_inv= np.linalg.inv(A)"
   ]
  },
  {
   "cell_type": "code",
   "execution_count": null,
   "metadata": {
    "colab": {
     "base_uri": "https://localhost:8080/"
    },
    "executionInfo": {
     "elapsed": 336,
     "status": "ok",
     "timestamp": 1672080254697,
     "user": {
      "displayName": "GAB VARGAS",
      "userId": "11481520464127115181"
     },
     "user_tz": 180
    },
    "id": "h8vS5Dlnv8XV",
    "outputId": "652f6fc1-7573-4eff-868a-6c8e7ee3b4f0"
   },
   "outputs": [
    {
     "data": {
      "text/plain": [
       "array([[ 1.00000000e+00, -1.38777878e-17,  4.44089210e-16],\n",
       "       [ 6.93889390e-17,  1.00000000e+00,  0.00000000e+00],\n",
       "       [-1.38777878e-17,  0.00000000e+00,  1.00000000e+00]])"
      ]
     },
     "execution_count": 3,
     "metadata": {},
     "output_type": "execute_result"
    }
   ],
   "source": [
    "np.dot(A, A_inv)"
   ]
  },
  {
   "cell_type": "code",
   "execution_count": null,
   "metadata": {
    "colab": {
     "base_uri": "https://localhost:8080/",
     "height": 43
    },
    "executionInfo": {
     "elapsed": 281,
     "status": "ok",
     "timestamp": 1642713435149,
     "user": {
      "displayName": "GAB VARGAS",
      "photoUrl": "https://lh3.googleusercontent.com/a/default-user=s64",
      "userId": "11481520464127115181"
     },
     "user_tz": 180
    },
    "id": "VhySZN6PWVrG",
    "outputId": "a3af2916-fe78-4bdf-dd03-c40cb8242de6"
   },
   "outputs": [
    {
     "data": {
      "application/vnd.google.colaboratory.intrinsic+json": {
       "type": "string"
      },
      "text/plain": [
       "'<TO DO>'"
      ]
     },
     "execution_count": 3,
     "metadata": {},
     "output_type": "execute_result"
    }
   ],
   "source": [
    "# Check the result by mutliplying A by the result\n",
    "'<TO DO>'"
   ]
  },
  {
   "cell_type": "code",
   "execution_count": null,
   "metadata": {
    "colab": {
     "base_uri": "https://localhost:8080/"
    },
    "executionInfo": {
     "elapsed": 269,
     "status": "ok",
     "timestamp": 1672080266487,
     "user": {
      "displayName": "GAB VARGAS",
      "userId": "11481520464127115181"
     },
     "user_tz": 180
    },
    "id": "CY627AWqwA12",
    "outputId": "1046af88-85e4-4161-d139-4b672a5f8e86"
   },
   "outputs": [
    {
     "name": "stdout",
     "output_type": "stream",
     "text": [
      "[[-2.17647059]\n",
      " [53.54411765]\n",
      " [56.63235294]]\n"
     ]
    }
   ],
   "source": [
    "X= np.dot(A_inv, B)\n",
    "print(X)"
   ]
  },
  {
   "cell_type": "markdown",
   "metadata": {
    "id": "wgMgUTH3_d3i"
   },
   "source": [
    "## Solving a System of Linear Equations using solve() Method"
   ]
  },
  {
   "cell_type": "code",
   "execution_count": null,
   "metadata": {
    "id": "Ni4rgOTspdU2"
   },
   "outputs": [],
   "source": [
    "# Import\n",
    "import numpy as np\n",
    "import matplotlib.pyplot as plt\n",
    "from scipy.integrate import solve_ivp  # numerical integration solver"
   ]
  },
  {
   "cell_type": "markdown",
   "metadata": {
    "id": "fPD2mxFEWk87"
   },
   "source": [
    "Let's go to the [documentation](https://docs.scipy.org/doc/scipy/reference/generated/scipy.integrate.solve_ivp.html) and solve the equation!"
   ]
  },
  {
   "cell_type": "code",
   "execution_count": null,
   "metadata": {
    "id": "LX8JxdcZXcRm"
   },
   "outputs": [],
   "source": [
    "'<TO DO>'"
   ]
  },
  {
   "cell_type": "code",
   "execution_count": null,
   "metadata": {
    "colab": {
     "base_uri": "https://localhost:8080/"
    },
    "executionInfo": {
     "elapsed": 247,
     "status": "ok",
     "timestamp": 1672080286317,
     "user": {
      "displayName": "GAB VARGAS",
      "userId": "11481520464127115181"
     },
     "user_tz": 180
    },
    "id": "j0s_VJ6jwFyR",
    "outputId": "6efc6039-bcdf-4a97-9b9f-756af20b83d7"
   },
   "outputs": [
    {
     "data": {
      "text/plain": [
       "array([[-2.17647059],\n",
       "       [53.54411765],\n",
       "       [56.63235294]])"
      ]
     },
     "execution_count": 5,
     "metadata": {},
     "output_type": "execute_result"
    }
   ],
   "source": [
    "np.linalg.solve(A,B)"
   ]
  },
  {
   "cell_type": "markdown",
   "metadata": {
    "id": "1K9bL4ELaAir"
   },
   "source": [
    "## Visualization of the result\n",
    "If I do not know how to plot it, let's navigate through the vast land of the internet\n",
    "--> i.e: [This seems a good starting point](https://stackoverflow.com/questions/35107416/using-matplotlib-and-numpy-to-plot-a-system-of-equations)\n"
   ]
  },
  {
   "cell_type": "markdown",
   "metadata": {
    "id": "dOm1TH22XpUr"
   },
   "source": [
    "![](https://external-preview.redd.it/EDuAmi7t7oW840rRg2WMKphcP_ViObYN9lrdRmFOmj8.jpg?auto=webp&s=596eef33d2fa848cd56f77f7113c21858521c726)"
   ]
  },
  {
   "cell_type": "code",
   "execution_count": null,
   "metadata": {
    "id": "fwYYlEmPZxln"
   },
   "outputs": [],
   "source": [
    "#\n",
    "'<TO DO>'"
   ]
  },
  {
   "cell_type": "code",
   "execution_count": null,
   "metadata": {
    "colab": {
     "base_uri": "https://localhost:8080/",
     "height": 357
    },
    "executionInfo": {
     "elapsed": 605,
     "status": "ok",
     "timestamp": 1672080307019,
     "user": {
      "displayName": "GAB VARGAS",
      "userId": "11481520464127115181"
     },
     "user_tz": 180
    },
    "id": "GoDM93vUwKmi",
    "outputId": "39c5e386-265e-4645-bb75-21b2deba10ee"
   },
   "outputs": [
    {
     "data": {
      "image/png": "[encoded data removed]",
      "text/plain": [
       "<Figure size 432x432 with 1 Axes>"
      ]
     },
     "metadata": {
      "needs_background": "light"
     },
     "output_type": "display_data"
    }
   ],
   "source": [
    "import numpy as np\n",
    "import matplotlib.pyplot as plt\n",
    "from mpl_toolkits.mplot3d import Axes3D\n",
    "\n",
    "fig = plt.figure(figsize=(6, 6))\n",
    "ax = fig.add_subplot(111, projection='3d')\n",
    "\n",
    "x, y = np.linspace(-60, 60, 100), np.linspace(-60, 60, 100)\n",
    "X, Y = np.meshgrid(x, y)\n",
    "Z1 = (8 + 4 * Y - 2 * X)/4\n",
    "Z2 = (34 * X) + (3 * Y) -30\n",
    "Z3 = 108 - X - Y\n",
    "\n",
    "ax.plot_surface(X, Y, Z1, alpha=0.5, rstride=100, cstride=100)\n",
    "ax.plot_surface(X, Y, Z2, alpha=0.5, rstride=100, cstride=100)\n",
    "ax.plot_surface(X, Y, Z3, alpha= 0.5, facecolors='g', rstride=100, cstride=100)\n",
    "\n",
    "\n",
    "ax.plot((-2.1,),(53.5,),(56.6,), lw=2, c='k', marker='o') # Dot intersection; SOLUTION\n",
    "\n",
    "\n",
    "plt.show()"
   ]
  },
  {
   "cell_type": "markdown",
   "metadata": {
    "id": "-8w5MCF-wAro"
   },
   "source": [
    "## MATLAB"
   ]
  },
  {
   "cell_type": "code",
   "execution_count": null,
   "metadata": {
    "id": "e1yR8C_pv8aB"
   },
   "outputs": [],
   "source": [
    "##\n",
    "#%% ODEs in MATLAB\n",
    "#\n",
    "#% https://matlab.mathworks.com/\n",
    "\n",
    "#%% Define symbolic functions\n",
    "#syms x y z\n",
    "#% https://uk.mathworks.com/help/symbolic/solve-a-system-of-differential-equations.html\n",
    "#\n",
    "#%% Define matrices\n",
    "#\n",
    "#A = [2 -4 4; 34 3 -1; 1 1 1 ];\n",
    "#B = [8; 30; 108];\n",
    "#X = [x; y; z];\n",
    "#\n",
    "#%% DEFINE ODE\n",
    "#odes = diff(X) == A*X - B;\n",
    "#\n",
    "#\n",
    "#%% Solve the matrix equation using vpasolve\n",
    "#\n",
    "#S = vpasolve(odes);\n",
    "#\n",
    "#% access results\n",
    "#xSol = S.x;\n",
    "#ySol = S.y;\n",
    "#zSol = S.z;\n",
    "#\n",
    "#%% PLOT the point\n",
    "#plot3(xSol,ySol,zSol, '*', 'MarkerSize',12, 'Color',[0.5 0 0.8]);\n",
    "#\n",
    "#"
   ]
  }
 ],
 "metadata": {
  "colab": {
   "provenance": []
  },
  "kernelspec": {
   "display_name": "Python 3 (ipykernel)",
   "language": "python",
   "name": "python3"
  },
  "language_info": {
   "codemirror_mode": {
    "name": "ipython",
    "version": 3
   },
   "file_extension": ".py",
   "mimetype": "text/x-python",
   "name": "python",
   "nbconvert_exporter": "python",
   "pygments_lexer": "ipython3",
   "version": "3.11.4"
  },
  "vscode": {
   "interpreter": {
    "hash": "12332c04e63b3d97ab5935cc5fd411f9045fe7cff541a8f514cbe7b01e0ce6fb"
   }
  }
 },
 "nbformat": 4,
 "nbformat_minor": 1
}
