{
 "cells": [
  {
   "cell_type": "markdown",
   "metadata": {
    "id": "CWEcnRQ1GriU"
   },
   "source": [
    "# IIBM Bootcamp 2025: Day 5 Afternoon\n",
    "### Instructors Carlos Valle (cgvalle@uc.cl) and Nicolás Garrido (nagarrido@uc.cl)\n",
    "\n",
    "\n",
    "\n",
    "This jupyter notebook will cover linear equations and basics solvers in Python \n",
    "\n",
    "Content of the day:\n",
    "* Fourier\n",
    "* Filtering in the frequency space\n"
   ]
  },
  {
   "cell_type": "markdown",
   "metadata": {},
   "source": [
    "# The Fourier Transorm\n",
    "\n",
    "The Fourier Transform is probably one of the most important mathematical operations of all time. In a few words, **it decomposes signals into a set of frequencyes that compose the original signal**.\n",
    "\n",
    "The logic is that any signal can be written as an infinitue sum of sines and cosines of varying amplitude and phase. The Fourier transform is a process though which you can find such values for each frequency in this infinite sum.\n",
    "\n",
    "![](https://raw.githubusercontent.com/cgvalle/IIBM-BootCamp-2024/main/assets/D5/fourier_integral.png)\n",
    "\n",
    "There is a whole course at the UC dedicated to understing the mathematics behind this mathematical transform, so we will only focus on why is so usefull. \n",
    "\n",
    "We can obtain the cos and sin from :\n",
    "\n",
    "<center>\n",
    "$e^{ix} = cos(x) + i sin(x)$\n",
    "</center>\n",
    "    \n",
    "    \n",
    "### Practical exercise\n",
    "\n",
    "Let's go with a practical example and open [Online spectrogram](https://spectrogram.sciencemusic.org/). A spectrogram is just doing the fourier transform multiple times and appending the results on time.\n",
    "![](https://raw.githubusercontent.com/cgvalle/IIBM-BootCamp-2024/main/assets/D5/spectrogram.png)\n",
    "\n",
    "\n",
    "* Whistle and watch the evolution of the frequencyes.\n",
    "* In pairs Whistle at the same time \n",
    "* Try playing a song.\n",
    "* Can we remove some frequencyes if we wanted ? \n",
    "\n",
    "\n",
    "# Fourier Inversion theorem\n",
    "![](https://raw.githubusercontent.com/cgvalle/IIBM-BootCamp-2024/main/assets/D5/domain.png)\n",
    "\n",
    "We can go from the time tomain to the frequency domain an vice-versa!!!. \n",
    "\n",
    "Let's try to implement it on Python. We will create a signal with a sampling rate of 2000 Hz, a duration of 10 seconds with a two hz signal"
   ]
  },
  {
   "cell_type": "code",
   "execution_count": null,
   "metadata": {},
   "outputs": [],
   "source": [
    "import numpy as np \n",
    "from matplotlib import pyplot as plt\n",
    "\n",
    "def generate_sine_wave(freq, sample_rate, duration):\n",
    "    x = np.linspace(0, duration, sample_rate * duration, endpoint=False)\n",
    "    frequencies = x * freq\n",
    "    \n",
    "    y = np.sin((2 * np.pi) * frequencies)\n",
    "    return x, y\n",
    "\n",
    "sample_rate = 100\n",
    "duration = 1\n",
    "x, y1 = generate_sine_wave(2, sample_rate, duration)\n",
    "x, y2 = generate_sine_wave(8, sample_rate, duration)\n",
    "\n",
    "\n",
    "y = y1 \n",
    "fig  = plt.figure(figsize=(8,8))\n",
    "plt.plot(x, y)\n",
    "plt.xlabel('Seconds')\n",
    "plt.show()"
   ]
  },
  {
   "cell_type": "markdown",
   "metadata": {},
   "source": [
    "[](https://raw.githubusercontent.com/CarlosValleA/IIBM-BootCamp-2023/main/assets/D5/domain.png)"
   ]
  },
  {
   "cell_type": "markdown",
   "metadata": {},
   "source": [
    "### Getting the Fourier transform"
   ]
  },
  {
   "cell_type": "code",
   "execution_count": null,
   "metadata": {},
   "outputs": [],
   "source": [
    "from numpy.fft import fft, ifft\n",
    "\n",
    "X = fft(y)\n",
    "N = len(X)\n",
    "n = np.arange(N)\n",
    "T = N/sample_rate\n",
    "freq = n/T \n",
    "\n",
    "plt.figure(figsize = (12, 6))\n",
    "plt.subplot(121)\n",
    "\n",
    "plt.stem(freq, np.abs(X), 'b', \\\n",
    "         markerfmt=\" \", basefmt=\"-b\")\n",
    "plt.xlabel('Freq (Hz)')\n",
    "plt.ylabel('FFT Amplitude |X(freq)|')\n",
    "plt.xlim(0, 10)\n",
    "\n",
    "plt.subplot(122)\n",
    "plt.plot(x, ifft(X), 'r')\n",
    "plt.xlabel('Time (s)')\n",
    "plt.ylabel('Amplitude')\n",
    "plt.tight_layout()\n",
    "plt.show()"
   ]
  },
  {
   "cell_type": "markdown",
   "metadata": {},
   "source": [
    "# Working with images\n",
    "\n",
    "With can also observe at the frequency space with images. Since images have two dimensions, the frequency space will also have two dimensions. Instead of `fft` and `ifft` functions, we will use `fft2` and `ifft2` that can operate on images."
   ]
  },
  {
   "cell_type": "code",
   "execution_count": null,
   "metadata": {},
   "outputs": [],
   "source": [
    "!curl -O https://raw.githubusercontent.com/CarlosValleA/IIBM-BootCamp-2023/main/assets/D5/lena.png"
   ]
  },
  {
   "cell_type": "code",
   "execution_count": null,
   "metadata": {},
   "outputs": [],
   "source": [
    "# New libraries !\n",
    "from skimage.io import imread, imshow\n",
    "from matplotlib import pyplot as plt\n",
    "\n",
    "lena = imread('lena.png')[:, :, 0]  # Only get one color channel\n",
    "fig = plt.figure(figsize=(8,8))\n",
    "imshow(lena)\n",
    "plt.show()\n",
    "\n",
    "# Shape\n",
    "print(\"Image as a shape of \", lena.shape)\n"
   ]
  },
  {
   "cell_type": "markdown",
   "metadata": {},
   "source": [
    "Now let's compute the image in the frequency space. \n",
    "\n",
    "`fft2` $\\rightarrow$ Fourier Transform 2D\n",
    "\n",
    "`fftshift` $\\rightarrow$ Shift the zero-frequency component to the center of the spectrum.\n",
    "\n"
   ]
  },
  {
   "cell_type": "code",
   "execution_count": null,
   "metadata": {},
   "outputs": [],
   "source": [
    "X = np.fft.fftshift(np.fft.fft2(lena)) \n",
    "fig = plt.figure(figsize=(8,8))\n",
    "imshow(np.log(np.abs(X)), cmap='gray')\n",
    "plt.show()"
   ]
  },
  {
   "cell_type": "markdown",
   "metadata": {},
   "source": [
    "Reconstructed lena image from `X`. Low frequencies are located at the center of the image while high ones at the outside of the image."
   ]
  },
  {
   "cell_type": "code",
   "execution_count": null,
   "metadata": {},
   "outputs": [],
   "source": [
    "reconstructed = np.abs(np.fft.ifft2(np.fft.fftshift(X)))\n",
    "fig = plt.figure(figsize=(8,8))\n",
    "imshow(reconstructed, cmap='gray')\n",
    "plt.show()\n"
   ]
  },
  {
   "cell_type": "markdown",
   "metadata": {},
   "source": [
    "## The Fourier Inversion theorem is True !\n",
    "We can modify the image in the frequency space to get interesting results. Let's apply a mask!:"
   ]
  },
  {
   "cell_type": "code",
   "execution_count": null,
   "metadata": {},
   "outputs": [],
   "source": [
    "def gaus_mask(size, sigma_x, sigma_y, x, y):\n",
    "    x = np.linspace(-10 - x, 10 - x, size[1])\n",
    "    y = np.linspace(-10 + y, 10 + y, size[0])\n",
    "\n",
    "    x, y = np.meshgrid(x, y)\n",
    "    z = (1/(2*np.pi*sigma_x*sigma_y) * np.exp(-(x**2/(2*sigma_x**2)\n",
    "         + y**2/(2*sigma_y**2))))\n",
    "    return (z - np.min(z))/(np.max(z) - np.min(z))\n",
    "\n",
    "\n",
    "mask = 1 - gaus_mask(lena.shape, sigma_x=0.5, sigma_y=0.5, x=0 ,y=0 )\n",
    "\n",
    "fig = plt.figure(figsize=(12,10))\n",
    "ax=plt.subplot(1,3,1)\n",
    "imshow(np.log(np.abs(X)), cmap='gray')\n",
    "ax.title.set_text(\"Frequency space\")\n",
    "ax=plt.subplot(1,3,2)\n",
    "imshow(mask, cmap='gray')\n",
    "ax.title.set_text(\"Mask\")\n",
    "ax=plt.subplot(1,3,3)\n",
    "imshow(mask*np.log(np.abs(X)), cmap='gray')\n",
    "ax.title.set_text(\"Masked frequency space\")\n",
    "plt.show()"
   ]
  },
  {
   "cell_type": "markdown",
   "metadata": {},
   "source": [
    "Reconstructing the filtered image"
   ]
  },
  {
   "cell_type": "code",
   "execution_count": null,
   "metadata": {},
   "outputs": [],
   "source": [
    "reconstructed = np.abs(np.fft.ifft2(np.fft.fftshift(X*mask)))\n",
    "fig = plt.figure(figsize=(8,8))\n",
    "imshow(reconstructed, cmap='gray')\n",
    "plt.show()"
   ]
  },
  {
   "cell_type": "markdown",
   "metadata": {},
   "source": [
    "We can do the same with a sobel convolution filter. so what ? . Fourier can delete more dificult noise!"
   ]
  },
  {
   "cell_type": "code",
   "execution_count": null,
   "metadata": {},
   "outputs": [],
   "source": [
    "grid = np.zeros(lena.shape)\n",
    "\n",
    "grid[:, ::5] = 40\n",
    "grid[::5, :] = 40\n",
    "\n",
    "lena_grid = grid + lena.copy()\n",
    "\n",
    "fig = plt.figure(figsize=(8,8))\n",
    "imshow(lena_grid, cmap='gray')\n",
    "plt.show()"
   ]
  },
  {
   "cell_type": "markdown",
   "metadata": {},
   "source": [
    "Comparing the original frequency space vs the lena with a grid"
   ]
  },
  {
   "cell_type": "code",
   "execution_count": null,
   "metadata": {},
   "outputs": [],
   "source": [
    "X_grid = np.fft.fftshift(np.fft.fft2(lena_grid)) \n",
    "\n",
    "fig = plt.figure(figsize=(12,10))\n",
    "ax=plt.subplot(1,2,1)\n",
    "imshow(np.log(np.abs(X)), cmap='gray')\n",
    "ax.title.set_text(\"Original\")\n",
    "ax=plt.subplot(1,2,2)\n",
    "imshow(np.log(np.abs(X_grid)), cmap='gray')\n",
    "ax.title.set_text(\"Grid\")\n",
    "plt.show()"
   ]
  },
  {
   "cell_type": "markdown",
   "metadata": {},
   "source": [
    "Let's try to remove the high frequency noises"
   ]
  },
  {
   "cell_type": "code",
   "execution_count": null,
   "metadata": {},
   "outputs": [],
   "source": [
    "mask = gaus_mask(lena.shape, sigma_x=1.5, sigma_y=1.5, x=0 ,y=0 )\n",
    "\n",
    "\n",
    "reconstructed = np.abs(np.fft.ifft2(np.fft.fftshift(X_grid*mask)))\n",
    "\n",
    "fig = plt.figure(figsize=(15, 15))\n",
    "plt.subplot(1,2,1)\n",
    "plt.imshow(np.log(np.abs(X_grid))*mask, cmap='gray')\n",
    "plt.subplot(1,2,2)\n",
    "plt.imshow(reconstructed, cmap='gray')\n",
    "plt.show()\n"
   ]
  },
  {
   "cell_type": "markdown",
   "metadata": {},
   "source": [
    "# Exercise 1.1\n",
    "Download the image that is on the frequency domain and transform it to the space domain. **HINT: use the inverse Fourier transform**.\n",
    "\n",
    "Create a plot with the image in the frequency domain and in the space domain"
   ]
  },
  {
   "cell_type": "code",
   "execution_count": null,
   "metadata": {},
   "outputs": [],
   "source": [
    "!curl -O https://raw.githubusercontent.com/cgvalle/IIBM-BootCamp-2025/main/assets/D5/X.npy"
   ]
  },
  {
   "cell_type": "code",
   "execution_count": null,
   "metadata": {},
   "outputs": [],
   "source": []
  },
  {
   "cell_type": "markdown",
   "metadata": {},
   "source": [
    "# Exercise 1.2\n",
    "Apply a circular filter mask to the frequency domain image and reconstruct the image. Comment what you see\n"
   ]
  },
  {
   "cell_type": "code",
   "execution_count": null,
   "metadata": {},
   "outputs": [],
   "source": []
  },
  {
   "cell_type": "markdown",
   "metadata": {},
   "source": [
    "# Matlab\n",
    "Repeate the same analysis on Matlab. With the command below download the data:\n",
    "\n",
    "```R\n",
    "url = \"https://github.com/cgvalle/IIBM-BootCamp-2025/raw/main/assets/D5/X.mat\"\n",
    "websave('X.mat', url)\n",
    "```\n"
   ]
  },
  {
   "cell_type": "markdown",
   "metadata": {},
   "source": [
    "# **Don't forget to send your work!**\n",
    "Please don't forget to send your work to give you feedback about your progress to this [form](https://forms.gle/sME7JXuoB4ztMCFq6). To send it, you need to download the Notebook from Colab's webpage and upload it in the last question of the form."
   ]
  },
  {
   "cell_type": "code",
   "execution_count": null,
   "metadata": {},
   "outputs": [],
   "source": []
  }
 ],
 "metadata": {
  "colab": {
   "provenance": []
  },
  "kernelspec": {
   "display_name": "Python 3 (ipykernel)",
   "language": "python",
   "name": "python3"
  },
  "language_info": {
   "codemirror_mode": {
    "name": "ipython",
    "version": 3
   },
   "file_extension": ".py",
   "mimetype": "text/x-python",
   "name": "python",
   "nbconvert_exporter": "python",
   "pygments_lexer": "ipython3",
   "version": "3.11.4"
  },
  "vscode": {
   "interpreter": {
    "hash": "12332c04e63b3d97ab5935cc5fd411f9045fe7cff541a8f514cbe7b01e0ce6fb"
   }
  }
 },
 "nbformat": 4,
 "nbformat_minor": 1
}
