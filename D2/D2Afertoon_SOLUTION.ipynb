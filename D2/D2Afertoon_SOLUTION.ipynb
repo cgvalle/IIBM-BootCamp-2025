{
 "cells": [
  {
   "cell_type": "markdown",
   "metadata": {
    "id": "G4EJnUo6WDD3"
   },
   "source": [
    "## IIBM Bootcamp 2024: Day 2 Afternoon\n",
    "\n",
    "### Instructors Carlos Valle (cgvalle@uc.cl) and Nicolás Garrido (nagarrido@uc.cl)\n",
    "\n",
    "\n",
    "This jupyter notebook will cover the basics of data reading and writing in Python.\n"
   ]
  },
  {
   "cell_type": "markdown",
   "metadata": {
    "id": "1yUY3zjYV-Rx"
   },
   "source": [
    "#Group Project \n",
    "You can choose to build a function or to use a [`method`](https://www.pythontutorial.net/python-oop/python-methods/)\n",
    "\n",
    "Good luck!"
   ]
  },
  {
   "cell_type": "markdown",
   "metadata": {
    "id": "kfH-DLYW_oUt"
   },
   "source": [
    "### 1. Working with the DNA sequence\n",
    "\n",
    "\n",
    "\n",
    "\n",
    "With the data we already worked with, we now ask you to build a function to translate DNA sequence into protein sequence. \n",
    "We put at your disposal the dictionary of triples."
   ]
  },
  {
   "cell_type": "code",
   "execution_count": null,
   "metadata": {
    "colab": {
     "base_uri": "https://localhost:8080/"
    },
    "executionInfo": {
     "elapsed": 239,
     "status": "ok",
     "timestamp": 1672064648232,
     "user": {
      "displayName": "GAB VARGAS",
      "userId": "11481520464127115181"
     },
     "user_tz": 180
    },
    "id": "UD6-rfqQiorT",
    "outputId": "8caa63f3-b717-4331-e563-a88049046332"
   },
   "outputs": [],
   "source": [
    "# Load the data\n",
    "!wget https://raw.githubusercontent.com/cgvalle/IIBM-BootCamp-2024/main/data/seq_clean.txt "
   ]
  },
  {
   "cell_type": "code",
   "execution_count": null,
   "metadata": {
    "executionInfo": {
     "elapsed": 268,
     "status": "ok",
     "timestamp": 1672064669578,
     "user": {
      "displayName": "GAB VARGAS",
      "userId": "11481520464127115181"
     },
     "user_tz": 180
    },
    "id": "NLOYo3YG_r6O"
   },
   "outputs": [],
   "source": [
    "# Open and read the data\n",
    "file = open('seq_clean.txt')\n",
    "seq = file.read()\n",
    "file.close()"
   ]
  },
  {
   "cell_type": "code",
   "execution_count": null,
   "metadata": {
    "executionInfo": {
     "elapsed": 237,
     "status": "ok",
     "timestamp": 1672065979634,
     "user": {
      "displayName": "GAB VARGAS",
      "userId": "11481520464127115181"
     },
     "user_tz": 180
    },
    "id": "1u6nfryiELW8"
   },
   "outputs": [],
   "source": [
    "# DICTIONARY\n",
    "\n",
    "table = {\n",
    "        'ATA':'I', 'ATC':'I', 'ATT':'I', 'ATG':'M',\n",
    "        'ACA':'T', 'ACC':'T', 'ACG':'T', 'ACT':'T',\n",
    "        'AAC':'N', 'AAT':'N', 'AAA':'K', 'AAG':'K',\n",
    "        'AGC':'S', 'AGT':'S', 'AGA':'R', 'AGG':'R',                \n",
    "        'CTA':'L', 'CTC':'L', 'CTG':'L', 'CTT':'L',\n",
    "        'CCA':'P', 'CCC':'P', 'CCG':'P', 'CCT':'P',\n",
    "        'CAC':'H', 'CAT':'H', 'CAA':'Q', 'CAG':'Q',\n",
    "        'CGA':'R', 'CGC':'R', 'CGG':'R', 'CGT':'R',\n",
    "        'GTA':'V', 'GTC':'V', 'GTG':'V', 'GTT':'V',\n",
    "        'GCA':'A', 'GCC':'A', 'GCG':'A', 'GCT':'A',\n",
    "        'GAC':'D', 'GAT':'D', 'GAA':'E', 'GAG':'E',\n",
    "        'GGA':'G', 'GGC':'G', 'GGG':'G', 'GGT':'G',\n",
    "        'TCA':'S', 'TCC':'S', 'TCG':'S', 'TCT':'S',\n",
    "        'TTC':'F', 'TTT':'F', 'TTA':'L', 'TTG':'L',\n",
    "        'TAC':'Y', 'TAT':'Y', 'TAA':'_', 'TAG':'_',\n",
    "        'TGC':'C', 'TGT':'C', 'TGA':'_', 'TGG':'W',\n",
    "         }"
   ]
  },
  {
   "cell_type": "code",
   "execution_count": null,
   "metadata": {
    "colab": {
     "base_uri": "https://localhost:8080/",
     "height": 35
    },
    "executionInfo": {
     "elapsed": 250,
     "status": "ok",
     "timestamp": 1672060232437,
     "user": {
      "displayName": "GAB VARGAS",
      "userId": "11481520464127115181"
     },
     "user_tz": 180
    },
    "id": "7KcQQ9YhV4Z_",
    "outputId": "f808bd92-a198-461b-d079-94779b48603c"
   },
   "outputs": [],
   "source": [
    "# Check the dictionary\n",
    "table['ATT']"
   ]
  },
  {
   "cell_type": "code",
   "execution_count": null,
   "metadata": {
    "colab": {
     "base_uri": "https://localhost:8080/",
     "height": 35
    },
    "executionInfo": {
     "elapsed": 247,
     "status": "ok",
     "timestamp": 1672064704429,
     "user": {
      "displayName": "GAB VARGAS",
      "userId": "11481520464127115181"
     },
     "user_tz": 180
    },
    "id": "vO6lI_Rb0jvz",
    "outputId": "2ad12eaf-8fd1-430f-9468-a27ddbdd2559"
   },
   "outputs": [],
   "source": [
    "# Build the functions\n",
    "'<TO DO>'"
   ]
  },
  {
   "cell_type": "code",
   "execution_count": null,
   "metadata": {
    "executionInfo": {
     "elapsed": 333,
     "status": "ok",
     "timestamp": 1672060265475,
     "user": {
      "displayName": "GAB VARGAS",
      "userId": "11481520464127115181"
     },
     "user_tz": 180
    },
    "id": "xBMgubjDd9wo"
   },
   "outputs": [],
   "source": [
    "#@title function solution\n",
    "def traduce(secuencia):\n",
    "    table = {\n",
    "        'ATA':'I', 'ATC':'I', 'ATT':'I', 'ATG':'M',\n",
    "        'ACA':'T', 'ACC':'T', 'ACG':'T', 'ACT':'T',\n",
    "        'AAC':'N', 'AAT':'N', 'AAA':'K', 'AAG':'K',\n",
    "        'AGC':'S', 'AGT':'S', 'AGA':'R', 'AGG':'R',                \n",
    "        'CTA':'L', 'CTC':'L', 'CTG':'L', 'CTT':'L',\n",
    "        'CCA':'P', 'CCC':'P', 'CCG':'P', 'CCT':'P',\n",
    "        'CAC':'H', 'CAT':'H', 'CAA':'Q', 'CAG':'Q',\n",
    "        'CGA':'R', 'CGC':'R', 'CGG':'R', 'CGT':'R',\n",
    "        'GTA':'V', 'GTC':'V', 'GTG':'V', 'GTT':'V',\n",
    "        'GCA':'A', 'GCC':'A', 'GCG':'A', 'GCT':'A',\n",
    "        'GAC':'D', 'GAT':'D', 'GAA':'E', 'GAG':'E',\n",
    "        'GGA':'G', 'GGC':'G', 'GGG':'G', 'GGT':'G',\n",
    "        'TCA':'S', 'TCC':'S', 'TCG':'S', 'TCT':'S',\n",
    "        'TTC':'F', 'TTT':'F', 'TTA':'L', 'TTG':'L',\n",
    "        'TAC':'Y', 'TAT':'Y', 'TAA':'_', 'TAG':'_',\n",
    "        'TGC':'C', 'TGT':'C', 'TGA':'_', 'TGG':'W',\n",
    "         }\n",
    "    protein = \"\"\n",
    "        \n",
    "    for i in range(0, len(seq), 3):\n",
    "        if i+3 > len(seq):\n",
    "            break\n",
    "        codon = seq[i:i + 3]\n",
    "        #print(codon)\n",
    "        protein+= table[codon]\n",
    "\n",
    "    return protein"
   ]
  },
  {
   "cell_type": "code",
   "execution_count": null,
   "metadata": {
    "colab": {
     "base_uri": "https://localhost:8080/",
     "height": 122
    },
    "executionInfo": {
     "elapsed": 252,
     "status": "ok",
     "timestamp": 1672066746890,
     "user": {
      "displayName": "GAB VARGAS",
      "userId": "11481520464127115181"
     },
     "user_tz": 180
    },
    "id": "4lHpKUrenkNL",
    "outputId": "7da16631-cfee-44b6-c71e-f5a5e9fd04e1"
   },
   "outputs": [],
   "source": [
    "#@title sequence traduction\n",
    "rna_prot = traduce(seq)\n",
    "rna_prot"
   ]
  },
  {
   "cell_type": "code",
   "execution_count": null,
   "metadata": {
    "colab": {
     "base_uri": "https://localhost:8080/",
     "height": 35
    },
    "executionInfo": {
     "elapsed": 285,
     "status": "ok",
     "timestamp": 1672066599885,
     "user": {
      "displayName": "GAB VARGAS",
      "userId": "11481520464127115181"
     },
     "user_tz": 180
    },
    "id": "KPMjZs_N7vyo",
    "outputId": "cf27e34c-661f-4d14-a665-774d00292f09"
   },
   "outputs": [],
   "source": [
    "rna_prot[2]"
   ]
  },
  {
   "cell_type": "markdown",
   "metadata": {
    "id": "UtijZd0-_5-u"
   },
   "source": [
    "#### Now we ask to translate the DNA sequence, but this time you will alternate between reading 3 and 4 bases."
   ]
  },
  {
   "cell_type": "code",
   "execution_count": null,
   "metadata": {
    "colab": {
     "base_uri": "https://localhost:8080/",
     "height": 42
    },
    "executionInfo": {
     "elapsed": 19,
     "status": "ok",
     "timestamp": 1642534576592,
     "user": {
      "displayName": "GAB VARGAS",
      "photoUrl": "https://lh3.googleusercontent.com/a/default-user=s64",
      "userId": "11481520464127115181"
     },
     "user_tz": 180
    },
    "id": "lBfuRKy-__nz",
    "outputId": "d82bf0ce-5b20-40ba-836f-6d6f491a0ab5"
   },
   "outputs": [],
   "source": [
    "'TO DO'"
   ]
  },
  {
   "cell_type": "markdown",
   "metadata": {
    "id": "lFYFfUXkyaOU"
   },
   "source": [
    "### 2. Working with Chinese text\n",
    "\n",
    "\n",
    "\n",
    "With a new data set, we now ask you to use a `method` to translate Chinese text into Spanish. \n",
    "\n",
    "You must find the library, install packages (if it is requiered), import modules, and apply the method"
   ]
  },
  {
   "cell_type": "code",
   "execution_count": null,
   "metadata": {
    "executionInfo": {
     "elapsed": 3,
     "status": "ok",
     "timestamp": 1672075464686,
     "user": {
      "displayName": "GAB VARGAS",
      "userId": "11481520464127115181"
     },
     "user_tz": 180
    },
    "id": "54aHA-9hcM4p"
   },
   "outputs": [],
   "source": [
    "# Original phrase in Chinese to be translated\n",
    "frase_china = \"吃葡萄不吐葡萄皮,不吃葡萄倒吐葡萄皮\" "
   ]
  },
  {
   "cell_type": "code",
   "execution_count": null,
   "metadata": {
    "colab": {
     "base_uri": "https://localhost:8080/",
     "height": 35
    },
    "executionInfo": {
     "elapsed": 241,
     "status": "ok",
     "timestamp": 1672075256907,
     "user": {
      "displayName": "GAB VARGAS",
      "userId": "11481520464127115181"
     },
     "user_tz": 180
    },
    "id": "TWo9o5Pwc32V",
    "outputId": "a8b0a1a6-37d1-4f79-d7b2-d457a76397f4"
   },
   "outputs": [],
   "source": [
    "## Translate\n",
    "'<TO DO>'"
   ]
  },
  {
   "cell_type": "code",
   "execution_count": null,
   "metadata": {
    "colab": {
     "base_uri": "https://localhost:8080/"
    },
    "executionInfo": {
     "elapsed": 5565,
     "status": "ok",
     "timestamp": 1672075471814,
     "user": {
      "displayName": "GAB VARGAS",
      "userId": "11481520464127115181"
     },
     "user_tz": 180
    },
    "id": "cL0VYU49dGcz",
    "outputId": "33d8137c-25b9-4939-e5ca-461220e3903e"
   },
   "outputs": [],
   "source": [
    "!pip install --upgrade translators"
   ]
  },
  {
   "cell_type": "code",
   "execution_count": null,
   "metadata": {
    "colab": {
     "base_uri": "https://localhost:8080/"
    },
    "executionInfo": {
     "elapsed": 648,
     "status": "ok",
     "timestamp": 1672075476831,
     "user": {
      "displayName": "GAB VARGAS",
      "userId": "11481520464127115181"
     },
     "user_tz": 180
    },
    "id": "BTdk25Upc61k",
    "outputId": "b515f32e-f581-4850-f93a-e7d5a7bf8c3e"
   },
   "outputs": [],
   "source": [
    "import translators as ts\n",
    "import translators.server as tss"
   ]
  },
  {
   "cell_type": "code",
   "execution_count": null,
   "metadata": {
    "colab": {
     "base_uri": "https://localhost:8080/"
    },
    "executionInfo": {
     "elapsed": 364,
     "status": "ok",
     "timestamp": 1672075517098,
     "user": {
      "displayName": "GAB VARGAS",
      "userId": "11481520464127115181"
     },
     "user_tz": 180
    },
    "id": "Srg4eJmRdw51",
    "outputId": "780fc908-7534-43fb-a58c-b96dffe4506a"
   },
   "outputs": [],
   "source": [
    "print(ts.translate_text(frase_china, if_ignore_empty_query=False, if_ignore_limit_of_length=False, limit_of_length=5000))"
   ]
  },
  {
   "cell_type": "markdown",
   "metadata": {
    "id": "ol_56APx-3Ht"
   },
   "source": [
    "# 6. Don't forget to send your work!\n",
    "Please don't forget to send your work to give you feedback about your progress. [form](https://forms.gle/sME7JXuoB4ztMCFq6)"
   ]
  }
 ],
 "metadata": {
  "colab": {
   "authorship_tag": "ABX9TyNxBzHrWUZx7/L/G8oc5VJR",
   "collapsed_sections": [
    "kfH-DLYW_oUt"
   ],
   "provenance": []
  },
  "kernelspec": {
   "display_name": "Python 3",
   "language": "python",
   "name": "python3"
  },
  "language_info": {
   "codemirror_mode": {
    "name": "ipython",
    "version": 3
   },
   "file_extension": ".py",
   "mimetype": "text/x-python",
   "name": "python",
   "nbconvert_exporter": "python",
   "pygments_lexer": "ipython3",
   "version": "3.13.1"
  }
 },
 "nbformat": 4,
 "nbformat_minor": 1
}
