{
 "cells": [
  {
   "cell_type": "markdown",
   "metadata": {
    "id": "G4EJnUo6WDD3"
   },
   "source": [
    "## IIBM Bootcamp 2025: Day 2 Afternoon\n",
    "\n",
    "### Instructors Carlos Valle (cgvalle@uc.cl) and Nicolás Garrido (nagarrido@uc.cl)\n",
    "\n",
    "\n",
    "This jupyter notebook will cover the basics of data reading and writing in Python.\n"
   ]
  },
  {
   "cell_type": "markdown",
   "metadata": {
    "id": "1yUY3zjYV-Rx"
   },
   "source": [
    "#Group Project \n",
    "You can choose to build a function or to use a [`method`](https://www.pythontutorial.net/python-oop/python-methods/)\n",
    "\n",
    "Good luck!"
   ]
  },
  {
   "cell_type": "markdown",
   "metadata": {
    "id": "kfH-DLYW_oUt"
   },
   "source": [
    "### 1. Working with the DNA sequence\n",
    "\n",
    "\n",
    "\n",
    "\n",
    "With the data we already worked with, we now ask you to build a function to translate DNA sequence into protein sequence. \n",
    "We put at your disposal the dictionary of triples."
   ]
  },
  {
   "cell_type": "code",
   "execution_count": null,
   "metadata": {
    "colab": {
     "base_uri": "https://localhost:8080/"
    },
    "executionInfo": {
     "elapsed": 239,
     "status": "ok",
     "timestamp": 1672064648232,
     "user": {
      "displayName": "GAB VARGAS",
      "userId": "11481520464127115181"
     },
     "user_tz": 180
    },
    "id": "UD6-rfqQiorT",
    "outputId": "8caa63f3-b717-4331-e563-a88049046332"
   },
   "outputs": [],
   "source": [
    "# Load the data\n",
    "!wget https://raw.githubusercontent.com/cgvalle/IIBM-BootCamp-2025/main/assets/D2/seq_clean.txt "
   ]
  },
  {
   "cell_type": "code",
   "execution_count": null,
   "metadata": {
    "executionInfo": {
     "elapsed": 268,
     "status": "ok",
     "timestamp": 1672064669578,
     "user": {
      "displayName": "GAB VARGAS",
      "userId": "11481520464127115181"
     },
     "user_tz": 180
    },
    "id": "NLOYo3YG_r6O"
   },
   "outputs": [],
   "source": [
    "# Open and read the data\n",
    "file = open('seq_clean.txt')\n",
    "seq = file.read()\n",
    "file.close()"
   ]
  },
  {
   "cell_type": "code",
   "execution_count": null,
   "metadata": {
    "executionInfo": {
     "elapsed": 237,
     "status": "ok",
     "timestamp": 1672065979634,
     "user": {
      "displayName": "GAB VARGAS",
      "userId": "11481520464127115181"
     },
     "user_tz": 180
    },
    "id": "1u6nfryiELW8"
   },
   "outputs": [],
   "source": [
    "# DICTIONARY\n",
    "\n",
    "table = {\n",
    "        'ATA':'I', 'ATC':'I', 'ATT':'I', 'ATG':'M',\n",
    "        'ACA':'T', 'ACC':'T', 'ACG':'T', 'ACT':'T',\n",
    "        'AAC':'N', 'AAT':'N', 'AAA':'K', 'AAG':'K',\n",
    "        'AGC':'S', 'AGT':'S', 'AGA':'R', 'AGG':'R',                \n",
    "        'CTA':'L', 'CTC':'L', 'CTG':'L', 'CTT':'L',\n",
    "        'CCA':'P', 'CCC':'P', 'CCG':'P', 'CCT':'P',\n",
    "        'CAC':'H', 'CAT':'H', 'CAA':'Q', 'CAG':'Q',\n",
    "        'CGA':'R', 'CGC':'R', 'CGG':'R', 'CGT':'R',\n",
    "        'GTA':'V', 'GTC':'V', 'GTG':'V', 'GTT':'V',\n",
    "        'GCA':'A', 'GCC':'A', 'GCG':'A', 'GCT':'A',\n",
    "        'GAC':'D', 'GAT':'D', 'GAA':'E', 'GAG':'E',\n",
    "        'GGA':'G', 'GGC':'G', 'GGG':'G', 'GGT':'G',\n",
    "        'TCA':'S', 'TCC':'S', 'TCG':'S', 'TCT':'S',\n",
    "        'TTC':'F', 'TTT':'F', 'TTA':'L', 'TTG':'L',\n",
    "        'TAC':'Y', 'TAT':'Y', 'TAA':'_', 'TAG':'_',\n",
    "        'TGC':'C', 'TGT':'C', 'TGA':'_', 'TGG':'W',\n",
    "         }"
   ]
  },
  {
   "cell_type": "code",
   "execution_count": null,
   "metadata": {
    "colab": {
     "base_uri": "https://localhost:8080/",
     "height": 35
    },
    "executionInfo": {
     "elapsed": 250,
     "status": "ok",
     "timestamp": 1672060232437,
     "user": {
      "displayName": "GAB VARGAS",
      "userId": "11481520464127115181"
     },
     "user_tz": 180
    },
    "id": "7KcQQ9YhV4Z_",
    "outputId": "f808bd92-a198-461b-d079-94779b48603c"
   },
   "outputs": [],
   "source": [
    "# Check the dictionary\n",
    "table['ATT']"
   ]
  },
  {
   "cell_type": "code",
   "execution_count": null,
   "metadata": {
    "colab": {
     "base_uri": "https://localhost:8080/",
     "height": 35
    },
    "executionInfo": {
     "elapsed": 247,
     "status": "ok",
     "timestamp": 1672064704429,
     "user": {
      "displayName": "GAB VARGAS",
      "userId": "11481520464127115181"
     },
     "user_tz": 180
    },
    "id": "vO6lI_Rb0jvz",
    "outputId": "2ad12eaf-8fd1-430f-9468-a27ddbdd2559"
   },
   "outputs": [],
   "source": [
    "# Build the functions\n",
    "'<TO DO>'"
   ]
  },
  {
   "cell_type": "markdown",
   "metadata": {
    "id": "UtijZd0-_5-u"
   },
   "source": [
    "#### Now we ask to translate the DNA sequence, but this time you will alternate between reading 3 and 4 bases."
   ]
  },
  {
   "cell_type": "code",
   "execution_count": null,
   "metadata": {
    "colab": {
     "base_uri": "https://localhost:8080/",
     "height": 42
    },
    "executionInfo": {
     "elapsed": 19,
     "status": "ok",
     "timestamp": 1642534576592,
     "user": {
      "displayName": "GAB VARGAS",
      "photoUrl": "https://lh3.googleusercontent.com/a/default-user=s64",
      "userId": "11481520464127115181"
     },
     "user_tz": 180
    },
    "id": "lBfuRKy-__nz",
    "outputId": "d82bf0ce-5b20-40ba-836f-6d6f491a0ab5"
   },
   "outputs": [],
   "source": [
    "'TO DO'"
   ]
  },
  {
   "cell_type": "markdown",
   "metadata": {
    "id": "lFYFfUXkyaOU"
   },
   "source": [
    "### 2. Working with Chinese text\n",
    "\n",
    "\n",
    "\n",
    "With a new data set, we now ask you to use a `method` to translate Chinese text into Spanish. \n",
    "\n",
    "You must find the library, install packages (if it is requiered), import modules, and apply the method"
   ]
  },
  {
   "cell_type": "code",
   "execution_count": null,
   "metadata": {
    "executionInfo": {
     "elapsed": 3,
     "status": "ok",
     "timestamp": 1672075464686,
     "user": {
      "displayName": "GAB VARGAS",
      "userId": "11481520464127115181"
     },
     "user_tz": 180
    },
    "id": "54aHA-9hcM4p"
   },
   "outputs": [],
   "source": [
    "# Original phrase in Chinese to be translated\n",
    "frase_china = \"吃葡萄不吐葡萄皮,不吃葡萄倒吐葡萄皮\" "
   ]
  },
  {
   "cell_type": "code",
   "execution_count": null,
   "metadata": {
    "colab": {
     "base_uri": "https://localhost:8080/",
     "height": 35
    },
    "executionInfo": {
     "elapsed": 241,
     "status": "ok",
     "timestamp": 1672075256907,
     "user": {
      "displayName": "GAB VARGAS",
      "userId": "11481520464127115181"
     },
     "user_tz": 180
    },
    "id": "TWo9o5Pwc32V",
    "outputId": "a8b0a1a6-37d1-4f79-d7b2-d457a76397f4"
   },
   "outputs": [],
   "source": [
    "## Translate\n",
    "'<TO DO>'"
   ]
  },
  {
   "cell_type": "code",
   "execution_count": null,
   "metadata": {},
   "outputs": [],
   "source": [
    "# LOAD PACKAGE"
   ]
  },
  {
   "cell_type": "code",
   "execution_count": null,
   "metadata": {},
   "outputs": [],
   "source": [
    "# IMPORT PACKAGES"
   ]
  },
  {
   "cell_type": "code",
   "execution_count": null,
   "metadata": {},
   "outputs": [],
   "source": [
    "# USE METHOD"
   ]
  },
  {
   "cell_type": "markdown",
   "metadata": {
    "id": "ol_56APx-3Ht"
   },
   "source": [
    "# 6. Don't forget to send your work!\n",
    "Please don't forget to send your work to give you feedback about your progress. [form](https://forms.gle/sME7JXuoB4ztMCFq6)"
   ]
  },
  {
   "cell_type": "markdown",
   "metadata": {
    "id": "kJ7zFVGCJbNi"
   },
   "source": [
    "Based on the [exercise](https://www.geeksforgeeks.org/dna-protein-python-3/)"
   ]
  }
 ],
 "metadata": {
  "colab": {
   "authorship_tag": "ABX9TyNxBzHrWUZx7/L/G8oc5VJR",
   "collapsed_sections": [
    "kfH-DLYW_oUt"
   ],
   "provenance": []
  },
  "kernelspec": {
   "display_name": "Python 3 (ipykernel)",
   "language": "python",
   "name": "python3"
  },
  "language_info": {
   "codemirror_mode": {
    "name": "ipython",
    "version": 3
   },
   "file_extension": ".py",
   "mimetype": "text/x-python",
   "name": "python",
   "nbconvert_exporter": "python",
   "pygments_lexer": "ipython3",
   "version": "3.11.4"
  },
  "vscode": {
   "interpreter": {
    "hash": "12332c04e63b3d97ab5935cc5fd411f9045fe7cff541a8f514cbe7b01e0ce6fb"
   }
  }
 },
 "nbformat": 4,
 "nbformat_minor": 1
}
