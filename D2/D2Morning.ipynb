{
 "cells": [
  {
   "cell_type": "markdown",
   "metadata": {
    "id": "GiyX0MPLDtU4"
   },
   "source": [
    "## IIBM Bootcamp 2025: Day 2 Morning\n",
    "\n",
    "### Instructors Carlos Valle (cgvalle@uc.cl) and Nicolás Garrido (nagarrido@uc.cl)\n",
    "\n",
    "This jupyter notebook will cover the basics of data reading and writing in Python."
   ]
  },
  {
   "cell_type": "markdown",
   "metadata": {
    "id": "yDp-rBRdDxyi"
   },
   "source": [
    "# Content of the day\n",
    "\n",
    "1. [Operators](#Letssum)\n",
    "  1. [Let's sum() ](#Operators)\n",
    "    1. [Ejemplo 1-Arithmetics](#Ejemplo1-Arithmetics)\n",
    "    2. [Ejemplo 2-Concatenation](#Ejemplo2-Concatenation)\n",
    "  2. [Other operations](#Otheroperations)\n",
    "\n",
    "2. [Working with data](#Workingwithdata)\n",
    "    1. [Load](#Load)\n",
    "    2. [Pre process](#Preprocess)\n",
    "    3. [Functions](#Functions)\n",
    "3. [Excerise](#dnaexcersise) \n",
    "4. [Images](#Images)\n",
    "5. [Good practices](#Goodpractices)\n",
    "6. [Annexes](#Annexes)"
   ]
  },
  {
   "cell_type": "markdown",
   "metadata": {
    "id": "BS33Hp3RXnEN"
   },
   "source": [
    "# What are operators?\n",
    "\n",
    "\n"
   ]
  },
  {
   "cell_type": "markdown",
   "metadata": {
    "id": "KQZm2mJrD14f"
   },
   "source": [
    "\n",
    "Operators are symbols that tell the interpreter - in this case Python- to perform a specific operation, such as arithmetic, comparison, logical, etc.\n",
    "Operators are used to carrying out operations on one, two or more elements called operands. The operands can be variables, literals, the value returned by an expression, or the value returned by a function.\n",
    "\n",
    "Operators can be:\n",
    "\n",
    "1.  Arithmetics: It takes two operands as input, performs a calculation, and returns the result (+,-,*,**,%,/,//).\n",
    "2.  Relational: It is used to compare and establish the relationship between operands. Returns a Boolean value (true or false) based on the condition (>,<,==,>=,<=,!=).\n",
    "3.  Bit to Bit: Performs bitwise operators (&,|,^,~,>>,<<).\n",
    "4.  Asignation: Assign values to a variable. These are generally combined with other operators (=,+=,-=,/=,&=,<<=, etc).\n",
    "5.  Logic: Are used to make a decision based on multiple conditions ('and', 'or',' not').\n",
    "6.  Membership: Are used to identify membership in some sequence ('in', 'not in')\n",
    "7.  Identity: Are used to check if two variables use the same memory location ('is', 'is not')"
   ]
  },
  {
   "cell_type": "code",
   "execution_count": null,
   "metadata": {
    "colab": {
     "base_uri": "https://localhost:8080/"
    },
    "executionInfo": {
     "elapsed": 444,
     "status": "ok",
     "timestamp": 1642511697900,
     "user": {
      "displayName": "GAB VARGAS",
      "photoUrl": "https://lh3.googleusercontent.com/a/default-user=s64",
      "userId": "11481520464127115181"
     },
     "user_tz": 180
    },
    "id": "NESZ0IZRUUg0",
    "outputId": "573e5dfc-e8af-4608-d28e-49e43198a1a4"
   },
   "outputs": [],
   "source": [
    "a = 1\n",
    "a +=1\n",
    "a -= 4\n",
    "a /= 2\n",
    "\n",
    "print(a)"
   ]
  },
  {
   "cell_type": "markdown",
   "metadata": {
    "id": "hOzcaplnb9l2"
   },
   "source": [
    "## Arithmetic Operators\n",
    "\n",
    "The simplest operators are the arithmetics ones\n",
    "\n",
    "**Python Arithmetic Operators**\n",
    "\n",
    "Operator  |      Name      | Behavior\n",
    "----------|----------------| ---------------------------\n",
    "   +      |     Addition   |   Add 2 operands      \n",
    "   -      |  Substraction  |   Subtract the second value from the first value     \n",
    "   *      | Multiplication |   Find the product of 2 values      \n",
    "   /      |    Division    |   Find the quotient when first operand is divided by the second\n",
    "   %      |    Modulus     |  Find the remainder when first operand is divided by the second\n",
    "   **     |  Exponentation |  Raise the first operand to power of second\n",
    "   //     | Floor division |  Find the floorof the quotient when first operand is divided by the second\n",
    "\n",
    "\n",
    "## Let's sum\n",
    "\n",
    " The most simplest is the operator *addition* (+) that could be is use to performs the arithmetic mathematical operations of addition between **numeric variables**.\n",
    "\n",
    "## Example 1 \n",
    "Here, consider the expression \"c = a + b\".\n",
    "\n",
    "We identify\n",
    "1. The assignment operator, separating the expression between the left side, 'c,' and the right side 'a' and 'b.' Here, the values 'a' and 'b' are assigned to 'c' .\n",
    "2. In the middle of 'a' and 'b' is the arithmetic addition operator."
   ]
  },
  {
   "cell_type": "code",
   "execution_count": null,
   "metadata": {
    "id": "6Y5meU4nDjV-"
   },
   "outputs": [],
   "source": [
    "# To solve the expresion, first we create the variables 'a' and 'b' \n",
    "# with integer values '1.1' and '3.6'\n",
    "\n",
    "a = int(1.1)\n",
    "b = int(3.6)\n"
   ]
  },
  {
   "cell_type": "code",
   "execution_count": null,
   "metadata": {
    "id": "t6Z1Vk5HEBXO"
   },
   "outputs": [],
   "source": [
    "# Here we sum 'a' and 'b'and store in variable 'c'.\n",
    "# The variables store the operands, and + is the arithmetic operator. \n",
    "# The result of the operation is stored in variable c.\n",
    "c=a+b"
   ]
  },
  {
   "cell_type": "code",
   "execution_count": null,
   "metadata": {
    "colab": {
     "base_uri": "https://localhost:8080/"
    },
    "executionInfo": {
     "elapsed": 16,
     "status": "ok",
     "timestamp": 1642508312525,
     "user": {
      "displayName": "GAB VARGAS",
      "photoUrl": "https://lh3.googleusercontent.com/a/default-user=s64",
      "userId": "11481520464127115181"
     },
     "user_tz": 180
    },
    "id": "mdrCdxb8EE1o",
    "outputId": "f6e9853f-71fb-4895-f754-c392a07a761d"
   },
   "outputs": [],
   "source": [
    "# run HERE to print the numeric variable result\n",
    "print (f\"The value of you variable 'c' is equal to: {c}\")"
   ]
  },
  {
   "cell_type": "markdown",
   "metadata": {
    "id": "8kHOBlL8VE23"
   },
   "source": [
    "## Example 2 \n",
    "You can also perform the operator *addition* between **\"string (str)\"** variables. Here it is called a ***concatenation*** between strings, generating a new string.\n",
    "\n",
    "Here, we consider the 'Hola Mundo!' example"
   ]
  },
  {
   "cell_type": "code",
   "execution_count": null,
   "metadata": {
    "id": "Rs_zpyVvMgIx"
   },
   "outputs": [],
   "source": [
    "# First we write two strings\n",
    "h= 'hola'\n",
    "m= 'mundo'"
   ]
  },
  {
   "cell_type": "code",
   "execution_count": null,
   "metadata": {
    "id": "bJQZJq7fEPsY"
   },
   "outputs": [],
   "source": [
    "# We concatenate the strings\n",
    "saludo = h + ' ' + m + '!'"
   ]
  },
  {
   "cell_type": "code",
   "execution_count": null,
   "metadata": {
    "colab": {
     "base_uri": "https://localhost:8080/"
    },
    "executionInfo": {
     "elapsed": 426,
     "status": "ok",
     "timestamp": 1642508482349,
     "user": {
      "displayName": "GAB VARGAS",
      "photoUrl": "https://lh3.googleusercontent.com/a/default-user=s64",
      "userId": "11481520464127115181"
     },
     "user_tz": 180
    },
    "id": "IsCs7ciGETZ3",
    "outputId": "abdbf66c-73bf-4a88-bd9b-8f43c547e989"
   },
   "outputs": [],
   "source": [
    "# We print the result\n",
    "print(f\"Otra vez estamos escribiendo {saludo}\")"
   ]
  },
  {
   "cell_type": "markdown",
   "metadata": {
    "id": "8N-LJe4QGojF"
   },
   "source": [
    "#Modulus %"
   ]
  },
  {
   "cell_type": "code",
   "execution_count": null,
   "metadata": {
    "id": "yjtfsthrEZWW"
   },
   "outputs": [],
   "source": [
    "#Let's create some variables\n",
    "edad_carlos=26\n",
    "edad_gabriela=30"
   ]
  },
  {
   "cell_type": "code",
   "execution_count": null,
   "metadata": {
    "colab": {
     "base_uri": "https://localhost:8080/"
    },
    "executionInfo": {
     "elapsed": 415,
     "status": "ok",
     "timestamp": 1642508775636,
     "user": {
      "displayName": "GAB VARGAS",
      "photoUrl": "https://lh3.googleusercontent.com/a/default-user=s64",
      "userId": "11481520464127115181"
     },
     "user_tz": 180
    },
    "id": "00F962m0EbHj",
    "outputId": "af53bec5-49e7-47ea-fbc3-bf1f15502d6b"
   },
   "outputs": [],
   "source": [
    "#Now we will operate the modulus of 2 and 3 in some of them\n",
    "print(edad_carlos%2)\n",
    "print(edad_carlos%3)"
   ]
  },
  {
   "cell_type": "code",
   "execution_count": null,
   "metadata": {
    "colab": {
     "base_uri": "https://localhost:8080/"
    },
    "executionInfo": {
     "elapsed": 1003,
     "status": "ok",
     "timestamp": 1642508930590,
     "user": {
      "displayName": "GAB VARGAS",
      "photoUrl": "https://lh3.googleusercontent.com/a/default-user=s64",
      "userId": "11481520464127115181"
     },
     "user_tz": 180
    },
    "id": "9WWGiM43KMnO",
    "outputId": "99501363-c562-4270-fb50-9c35b98c35a7"
   },
   "outputs": [],
   "source": [
    "print(11%1)\n",
    "print(11%2)"
   ]
  },
  {
   "cell_type": "markdown",
   "metadata": {
    "id": "GoeTzq379Kvu"
   },
   "source": [
    "By modulus operand we can check that number is even or odd"
   ]
  },
  {
   "cell_type": "markdown",
   "metadata": {
    "id": "JExkRWcdCtIc"
   },
   "source": [
    "## Example 3\n",
    "Here, we create the some lists of variables.\n",
    "\n",
    "**NOTE** that the name of the list orients the content of it. AVOID the use of uninformative names such as 'lista_algo' or 'asdasd'"
   ]
  },
  {
   "cell_type": "code",
   "execution_count": null,
   "metadata": {
    "colab": {
     "base_uri": "https://localhost:8080/"
    },
    "executionInfo": {
     "elapsed": 253,
     "status": "ok",
     "timestamp": 1643211243512,
     "user": {
      "displayName": "GAB VARGAS",
      "photoUrl": "https://lh3.googleusercontent.com/a/default-user=s64",
      "userId": "11481520464127115181"
     },
     "user_tz": 180
    },
    "id": "YljLEevcEgnO",
    "outputId": "3e7405cb-7732-45fe-812f-d7129abd4ab1"
   },
   "outputs": [],
   "source": [
    "# Lista 1= A random list of the integers '1, 2, and 3' with a range of 30.\n",
    "\n",
    "#import library\n",
    "import random \n",
    "#generate list\n",
    "rand_lista= [random.randrange(1,4,1) for i in range(30)]\n",
    "print(rand_lista) #output\n",
    "print(len(rand_lista)) #length of the list\n",
    "print(type(rand_lista)) #type of data"
   ]
  },
  {
   "cell_type": "code",
   "execution_count": null,
   "metadata": {
    "colab": {
     "base_uri": "https://localhost:8080/"
    },
    "executionInfo": {
     "elapsed": 260,
     "status": "ok",
     "timestamp": 1643211041666,
     "user": {
      "displayName": "GAB VARGAS",
      "photoUrl": "https://lh3.googleusercontent.com/a/default-user=s64",
      "userId": "11481520464127115181"
     },
     "user_tz": 180
    },
    "id": "wYKOVloxEiHD",
    "outputId": "1daa88b7-d9b2-4f09-988e-661b8550fcd3"
   },
   "outputs": [],
   "source": [
    "#Lista 2: A list called 'lin_seq_list' with the integers '1, 2, and 3' repeated 10 times each in a linear sequence \n",
    "l1= [1] * 10\n",
    "l2= [2] * 10\n",
    "l3= [3] * 10\n",
    "\n",
    "lin_seq_list= l1 + l2 + l3\n",
    "print(lin_seq_list)"
   ]
  },
  {
   "cell_type": "code",
   "execution_count": null,
   "metadata": {
    "colab": {
     "base_uri": "https://localhost:8080/"
    },
    "executionInfo": {
     "elapsed": 499,
     "status": "ok",
     "timestamp": 1643211162266,
     "user": {
      "displayName": "GAB VARGAS",
      "photoUrl": "https://lh3.googleusercontent.com/a/default-user=s64",
      "userId": "11481520464127115181"
     },
     "user_tz": 180
    },
    "id": "FuI2pKGpQ6rz",
    "outputId": "2509748a-1a58-4405-d783-223961a6efb8"
   },
   "outputs": [],
   "source": [
    "# Lista 3: A list called 'list_123' with the of the integers '1, 2, and 3' repeated 10 times each in chunks of '1, 2,3' \n",
    "lista_123=[1, 2, 3]*10\n",
    "print(lista_123)"
   ]
  },
  {
   "cell_type": "markdown",
   "metadata": {
    "id": "Yt5VOgBO7L9M"
   },
   "source": [
    "##Lets try some other operations"
   ]
  },
  {
   "cell_type": "code",
   "execution_count": null,
   "metadata": {
    "colab": {
     "base_uri": "https://localhost:8080/"
    },
    "executionInfo": {
     "elapsed": 285,
     "status": "ok",
     "timestamp": 1643211246710,
     "user": {
      "displayName": "GAB VARGAS",
      "photoUrl": "https://lh3.googleusercontent.com/a/default-user=s64",
      "userId": "11481520464127115181"
     },
     "user_tz": 180
    },
    "id": "mruP0gkFEmZ_",
    "outputId": "37ba86f7-94af-41c3-8d12-1c73f024532f"
   },
   "outputs": [],
   "source": [
    "#Membership\n",
    "result_compare= lin_seq_list in rand_lista\n",
    "# We compare the lists\n",
    "print(f'El resultado que obtenemos es {result_compare}')"
   ]
  },
  {
   "cell_type": "code",
   "execution_count": null,
   "metadata": {
    "colab": {
     "base_uri": "https://localhost:8080/"
    },
    "executionInfo": {
     "elapsed": 320,
     "status": "ok",
     "timestamp": 1643211251292,
     "user": {
      "displayName": "GAB VARGAS",
      "photoUrl": "https://lh3.googleusercontent.com/a/default-user=s64",
      "userId": "11481520464127115181"
     },
     "user_tz": 180
    },
    "id": "goxU_kxoSub5",
    "outputId": "171deba5-74f3-44fb-bf1e-061e8a7a9756"
   },
   "outputs": [],
   "source": [
    "lin_seq_list[1:2] == rand_lista[1:2]"
   ]
  },
  {
   "cell_type": "code",
   "execution_count": null,
   "metadata": {
    "colab": {
     "base_uri": "https://localhost:8080/"
    },
    "executionInfo": {
     "elapsed": 256,
     "status": "ok",
     "timestamp": 1643211517789,
     "user": {
      "displayName": "GAB VARGAS",
      "photoUrl": "https://lh3.googleusercontent.com/a/default-user=s64",
      "userId": "11481520464127115181"
     },
     "user_tz": 180
    },
    "id": "2c6N1p6FBiBP",
    "outputId": "4d93a97e-4d0d-4675-b1ba-d864c507a002"
   },
   "outputs": [],
   "source": [
    "lista_123 is lista_123"
   ]
  },
  {
   "cell_type": "markdown",
   "metadata": {
    "id": "Nb6e5878HwzL"
   },
   "source": [
    "# Working with data\n",
    "\n",
    "Usually we also work with data from other sources, that could be in formats as .txt, .xlsx, .csv, etc. \n",
    "\n",
    "Now we are going to import some data to work with. "
   ]
  },
  {
   "cell_type": "code",
   "execution_count": null,
   "metadata": {
    "colab": {
     "base_uri": "https://localhost:8080/"
    },
    "executionInfo": {
     "elapsed": 11,
     "status": "ok",
     "timestamp": 1671807180126,
     "user": {
      "displayName": "GAB VARGAS",
      "userId": "11481520464127115181"
     },
     "user_tz": 180
    },
    "id": "GPHts9Mv9I-F",
    "outputId": "bc596c21-1c5c-4015-88a8-97e36843091d"
   },
   "outputs": [],
   "source": [
    "#We import a data\n",
    "!wget https://raw.githubusercontent.com/CDCgov/SARS-CoV-2_Sequencing/master/sequences/reference-NC_045512.fasta"
   ]
  },
  {
   "cell_type": "code",
   "execution_count": null,
   "metadata": {
    "executionInfo": {
     "elapsed": 282,
     "status": "ok",
     "timestamp": 1671807584216,
     "user": {
      "displayName": "GAB VARGAS",
      "userId": "11481520464127115181"
     },
     "user_tz": 180
    },
    "id": "wfRuBlN0EzZ5"
   },
   "outputs": [],
   "source": [
    "#We open ...\n",
    "file=open('reference-NC_045512.fasta')\n",
    "#...and read the data\n",
    "seq_rna_original= file.read()"
   ]
  },
  {
   "cell_type": "markdown",
   "metadata": {
    "id": "x2g6c--xDX7o"
   },
   "source": [
    "###No we start to preprocess the file\n",
    "\n"
   ]
  },
  {
   "cell_type": "code",
   "execution_count": null,
   "metadata": {
    "colab": {
     "base_uri": "https://localhost:8080/"
    },
    "executionInfo": {
     "elapsed": 280,
     "status": "ok",
     "timestamp": 1671807587702,
     "user": {
      "displayName": "GAB VARGAS",
      "userId": "11481520464127115181"
     },
     "user_tz": 180
    },
    "id": "wVXj4ZLWE4UI",
    "outputId": "bfec173a-b4cc-4d17-ca2f-9ab0da4a2504"
   },
   "outputs": [],
   "source": [
    "#We could evaluate the class and length of the file\n",
    "print(f\"The class is {type(seq_rna_original)}\")\n",
    "print(f\"The number of elements is {len(seq_rna_original)}\")"
   ]
  },
  {
   "cell_type": "code",
   "execution_count": null,
   "metadata": {
    "colab": {
     "base_uri": "https://localhost:8080/",
     "height": 157
    },
    "executionInfo": {
     "elapsed": 270,
     "status": "ok",
     "timestamp": 1671807603572,
     "user": {
      "displayName": "GAB VARGAS",
      "userId": "11481520464127115181"
     },
     "user_tz": 180
    },
    "id": "P8uQsCL9E6b2",
    "outputId": "3bad20b9-9a0d-45d5-b372-84f54673465c"
   },
   "outputs": [],
   "source": [
    "# We are going to print to inspect the original sequence \n",
    "seq_rna_original\n",
    "# we notice some unnecesary information that we must remove from our analysis"
   ]
  },
  {
   "cell_type": "code",
   "execution_count": null,
   "metadata": {
    "executionInfo": {
     "elapsed": 264,
     "status": "ok",
     "timestamp": 1671807607668,
     "user": {
      "displayName": "GAB VARGAS",
      "userId": "11481520464127115181"
     },
     "user_tz": 180
    },
    "id": "9dikdA9vE9SM"
   },
   "outputs": [],
   "source": [
    "#We apply the method '.replace()' to remove unnecesary strings\n",
    "seq_clean= seq_rna_original.replace('>NC_045512.2 Severe acute respiratory syndrome coronavirus 2 isolate Wuhan-Hu-1, complete genome','')\n",
    "seq_clean = seq_clean.replace(\"\\n\", \"\")\n",
    "seq_clean = seq_clean.replace(\"\\r\", \"\")\n"
   ]
  },
  {
   "cell_type": "markdown",
   "metadata": {
    "id": "HZSV3rnRFA7t"
   },
   "source": [
    "##SAVE and DOWNLOAD"
   ]
  },
  {
   "cell_type": "code",
   "execution_count": null,
   "metadata": {
    "executionInfo": {
     "elapsed": 250,
     "status": "ok",
     "timestamp": 1671807611691,
     "user": {
      "displayName": "GAB VARGAS",
      "userId": "11481520464127115181"
     },
     "user_tz": 180
    },
    "id": "ym5wVHisDZEj"
   },
   "outputs": [],
   "source": [
    "# Now we save and download in our computer the preprocessing as a new .txt file\n",
    "from google.colab import files "
   ]
  },
  {
   "cell_type": "code",
   "execution_count": null,
   "metadata": {
    "colab": {
     "base_uri": "https://localhost:8080/",
     "height": 17
    },
    "executionInfo": {
     "elapsed": 341,
     "status": "ok",
     "timestamp": 1671807614563,
     "user": {
      "displayName": "GAB VARGAS",
      "userId": "11481520464127115181"
     },
     "user_tz": 180
    },
    "id": "pclxvvZNI3b7",
    "outputId": "739bab8d-ec6f-4656-f50b-567b33735540"
   },
   "outputs": [],
   "source": [
    "file= open('seq_clean.txt', 'w')\n",
    "file.write(seq_clean)\n",
    "file.close()\n",
    "files.download('seq_clean.txt')"
   ]
  },
  {
   "cell_type": "markdown",
   "metadata": {
    "id": "kNhQOm7XNaXy"
   },
   "source": [
    "## Before we start analyzing the data, we will introduce the **functions**"
   ]
  },
  {
   "cell_type": "markdown",
   "metadata": {
    "id": "Dep76ErzI3GA"
   },
   "source": [
    "# Python Functions\n",
    "\n",
    "So far it has been seen that there are already defined functions that can be used. Examples of these functions are:\n",
    "\n",
    "print ()\n",
    "open ()\n",
    "read ()\n",
    "etc.\n",
    "\n",
    "However, sometimes we need to create functions to perform certain specific tasks. To do this, we must take two aspects into account:\n",
    "\n",
    "* The definition of the function.\n",
    "* The right call of the previously defined function.\n"
   ]
  },
  {
   "cell_type": "markdown",
   "metadata": {
    "id": "4kvHpgaH5b42"
   },
   "source": [
    "# Function Definition\n",
    "\n",
    "To define a function, we must use the word \n",
    "\n",
    "```\n",
    "def\n",
    "```\n",
    "\n",
    "which is a reserved keyword in Python.\n",
    "\n",
    "Functions follow the syntax:\n",
    "\n",
    "```\n",
    "def function_name(parameter1, parameter2, ...):\n",
    "```\n",
    "\n",
    "Every defined function must have a name after the word *def*. This name meets the same variable name restrictions.\n",
    "\n",
    "The input parameters are in *round parentheses* (). The parameters must be separated by **commas** and can be a variable quantity. It ends at the end with the colon character \n",
    "```\n",
    ":\n",
    "```\n",
    "After the first line of code for the function, we must write all instructions. These instructions should be indented so that they are all within the function.\n",
    "\n",
    "In most cases, functions have a particular statement represented by the 'return' keyword. \n",
    "```\n",
    "return\n",
    "```\n",
    "This specific instruction indicates the moment we leave the function, returning some interest value.\n"
   ]
  },
  {
   "cell_type": "code",
   "execution_count": null,
   "metadata": {
    "executionInfo": {
     "elapsed": 243,
     "status": "ok",
     "timestamp": 1671807706191,
     "user": {
      "displayName": "GAB VARGAS",
      "userId": "11481520464127115181"
     },
     "user_tz": 180
    },
    "id": "R0200j53ECe5"
   },
   "outputs": [],
   "source": [
    "def kawaii(capybara, mariposa, pelicano):\n",
    "  ternura= (capybara**2) + (mariposa *3) - pelicano \n",
    "  return ternura"
   ]
  },
  {
   "cell_type": "code",
   "execution_count": null,
   "metadata": {
    "colab": {
     "base_uri": "https://localhost:8080/"
    },
    "executionInfo": {
     "elapsed": 254,
     "status": "ok",
     "timestamp": 1671807709237,
     "user": {
      "displayName": "GAB VARGAS",
      "userId": "11481520464127115181"
     },
     "user_tz": 180
    },
    "id": "Sp5HHQ1SEFrZ",
    "outputId": "0e79a8ff-19ad-4449-af7c-88c2c8cb5399"
   },
   "outputs": [],
   "source": [
    "kawaii(3,6,9)"
   ]
  },
  {
   "cell_type": "code",
   "execution_count": null,
   "metadata": {
    "colab": {
     "base_uri": "https://localhost:8080/"
    },
    "executionInfo": {
     "elapsed": 6161,
     "status": "ok",
     "timestamp": 1643211872177,
     "user": {
      "displayName": "GAB VARGAS",
      "photoUrl": "https://lh3.googleusercontent.com/a/default-user=s64",
      "userId": "11481520464127115181"
     },
     "user_tz": 180
    },
    "id": "PjWz45Q28EMq",
    "outputId": "6cdbd620-e04b-45ea-e516-6996d87c4d84"
   },
   "outputs": [],
   "source": [
    "\n",
    "# A simple example\n",
    "def kawaii(capybara, mariposa, pelicano):\n",
    "  ternura= capybara**2 + mariposa *3 - pelicano \n",
    "  return ternura\n",
    "v1 = float(input('Ingrese el valor capybara:'))\n",
    "v2 = float(input('Ingrese el valor mariposa:'))\n",
    "v3 = float(input('Ingrese el valor pelicano:'))\n",
    "\n",
    "var_resultado = kawaii(v1, v2, v3)\n",
    "\n",
    "if var_resultado < 0:\n",
    "    sol= v3 / (v1 + v2)\n",
    "    print('No es tierno, el tamaño del pelícano tiene una razón de ', sol)\n",
    "else:\n",
    "  if var_resultado == 0:\n",
    "      print('Casi tierno')\n",
    "  if var_resultado > 0:\n",
    "      print('Super tierno!')\n",
    "\n",
    "\n",
    "# With this, we have already developed our first function\n",
    "# but now we need to be able to use it."
   ]
  },
  {
   "cell_type": "markdown",
   "metadata": {
    "id": "wXSl8_rFK4Fv"
   },
   "source": [
    "## Prueba obtener 'No es tierno, el tamaño del pelícano tiene una razón de' y 'Casi tierno'"
   ]
  },
  {
   "cell_type": "markdown",
   "metadata": {
    "id": "d7PIHpB1RHnl"
   },
   "source": [
    "## Function call\n",
    "\n",
    "Once the function is created, as in the previous example, we can use it. This process is commonly called: call the function.\n",
    "\n",
    "To call a function, you must know its name and the parameters it receives. It is important to respect the number of parameters.\n",
    "\n",
    "Following the previous example, calling a function in Python consists of the following:\n"
   ]
  },
  {
   "cell_type": "code",
   "execution_count": null,
   "metadata": {
    "executionInfo": {
     "elapsed": 275,
     "status": "ok",
     "timestamp": 1671807831590,
     "user": {
      "displayName": "GAB VARGAS",
      "userId": "11481520464127115181"
     },
     "user_tz": 180
    },
    "id": "tK7wpGNHMlbq"
   },
   "outputs": [],
   "source": [
    "kawaii_result=kawaii(3, 2, 5)"
   ]
  },
  {
   "cell_type": "code",
   "execution_count": null,
   "metadata": {
    "colab": {
     "base_uri": "https://localhost:8080/"
    },
    "executionInfo": {
     "elapsed": 3,
     "status": "ok",
     "timestamp": 1671807832470,
     "user": {
      "displayName": "GAB VARGAS",
      "userId": "11481520464127115181"
     },
     "user_tz": 180
    },
    "id": "awVNJNrXRmp7",
    "outputId": "83a6ef07-7930-4236-b5f9-4190bfea323f"
   },
   "outputs": [],
   "source": [
    "kawaii_result"
   ]
  },
  {
   "cell_type": "markdown",
   "metadata": {
    "id": "NPx9IkDORxsK"
   },
   "source": [
    "## Difference between print() and return\n",
    "\n",
    "```\n",
    "print() \n",
    "```\n",
    "and \n",
    "```\n",
    "return \n",
    "```\n",
    "Can behave very similarly, but they should not be confused, as they are entirely different instructions.\n",
    "* return is the result of a function; therefore it should only go inside a function.\n",
    "* print () is an output of a program. It can go both in a function as in the main program's code (the main).\n",
    "\n",
    "*return* behaves very similarly to *print()* when the function is called from the console (shell).The above changes when the code is run from the file."
   ]
  },
  {
   "cell_type": "markdown",
   "metadata": {
    "id": "Ph8JAw5YWf0D"
   },
   "source": [
    "# From functions to scripts\n",
    "\n",
    "A Python script is a collection of commands in a file designed to be executed like a program. The file can of course contain functions, but the idea is that it will be run or executed from the command line or from within a Python interactive shell to perform a specific task. Often a script first contains a set of function definitions and then has the main program that might call the functions.\n",
    "\n",
    "\n",
    "\n"
   ]
  },
  {
   "cell_type": "markdown",
   "metadata": {
    "id": "m4-DDViHhRYV"
   },
   "source": [
    "# IMAGES"
   ]
  },
  {
   "cell_type": "code",
   "execution_count": null,
   "metadata": {
    "colab": {
     "base_uri": "https://localhost:8080/"
    },
    "executionInfo": {
     "elapsed": 626,
     "status": "ok",
     "timestamp": 1671807851973,
     "user": {
      "displayName": "GAB VARGAS",
      "userId": "11481520464127115181"
     },
     "user_tz": 180
    },
    "id": "3vo8qouwU-ou",
    "outputId": "7ffeeb9b-d875-4164-dc3a-4b16e01aaaeb"
   },
   "outputs": [],
   "source": [
    "#Load image\n",
    "!wget https://raw.githubusercontent.com/cgvalle/IIBM-BootCamp-2024/main/assets/D2/capybara.jpeg"
   ]
  },
  {
   "cell_type": "code",
   "execution_count": null,
   "metadata": {
    "colab": {
     "base_uri": "https://localhost:8080/"
    },
    "executionInfo": {
     "elapsed": 246,
     "status": "ok",
     "timestamp": 1671807856124,
     "user": {
      "displayName": "GAB VARGAS",
      "userId": "11481520464127115181"
     },
     "user_tz": 180
    },
    "id": "4jfs0qnmEYAv",
    "outputId": "3758b2cd-02bb-4afe-eb8e-38e3ab3f0c55"
   },
   "outputs": [],
   "source": [
    "#verify that the file upload was successful using:\n",
    "!ls"
   ]
  },
  {
   "cell_type": "code",
   "execution_count": null,
   "metadata": {
    "executionInfo": {
     "elapsed": 606,
     "status": "ok",
     "timestamp": 1671807859104,
     "user": {
      "displayName": "GAB VARGAS",
      "userId": "11481520464127115181"
     },
     "user_tz": 180
    },
    "id": "yF3hpYQbEZGy"
   },
   "outputs": [],
   "source": [
    "# import libraries\n",
    "import cv2\n",
    "import numpy as np\n",
    "import matplotlib.pyplot as plt"
   ]
  },
  {
   "cell_type": "code",
   "execution_count": null,
   "metadata": {
    "executionInfo": {
     "elapsed": 267,
     "status": "ok",
     "timestamp": 1671807860434,
     "user": {
      "displayName": "GAB VARGAS",
      "userId": "11481520464127115181"
     },
     "user_tz": 180
    },
    "id": "arpA0SDaEdfp"
   },
   "outputs": [],
   "source": [
    "img = cv2.imread(\"capybara.jpg\") #read the image data"
   ]
  },
  {
   "cell_type": "code",
   "execution_count": null,
   "metadata": {
    "colab": {
     "base_uri": "https://localhost:8080/"
    },
    "executionInfo": {
     "elapsed": 3,
     "status": "ok",
     "timestamp": 1671807862426,
     "user": {
      "displayName": "GAB VARGAS",
      "userId": "11481520464127115181"
     },
     "user_tz": 180
    },
    "id": "fiSJ9pRKEgUm",
    "outputId": "5e6ee718-f853-4ad3-9b75-569982855c29"
   },
   "outputs": [],
   "source": [
    "print(img) # print the image data, and there is none image"
   ]
  },
  {
   "cell_type": "code",
   "execution_count": null,
   "metadata": {
    "colab": {
     "base_uri": "https://localhost:8080/"
    },
    "executionInfo": {
     "elapsed": 258,
     "status": "ok",
     "timestamp": 1671807973245,
     "user": {
      "displayName": "GAB VARGAS",
      "userId": "11481520464127115181"
     },
     "user_tz": 180
    },
    "id": "fcewjdeehGtI",
    "outputId": "1696443c-84dd-4926-a94e-2a51f345d46c"
   },
   "outputs": [],
   "source": [
    "#Obtain the dimensions of the image as: row (height) x column (width) x color (3)\n",
    "print(img.shape)"
   ]
  },
  {
   "cell_type": "code",
   "execution_count": null,
   "metadata": {
    "colab": {
     "base_uri": "https://localhost:8080/",
     "height": 269
    },
    "executionInfo": {
     "elapsed": 835,
     "status": "ok",
     "timestamp": 1671807981592,
     "user": {
      "displayName": "GAB VARGAS",
      "userId": "11481520464127115181"
     },
     "user_tz": 180
    },
    "id": "M_zApvVtE29i",
    "outputId": "b7d906c9-ad70-48f0-d956-f166ec5bcc49"
   },
   "outputs": [],
   "source": [
    "#Here we can see the image data as an image\n",
    "img_cvt = cv2.cvtColor(img, cv2.COLOR_BGR2RGB) # little pre processing \n",
    "plt.imshow(img_cvt) #show the image\n",
    "plt.show() # plot the image"
   ]
  },
  {
   "cell_type": "markdown",
   "metadata": {
    "id": "fdSUBsohk7J0"
   },
   "source": [
    "Now we will check what we can do with a image"
   ]
  },
  {
   "cell_type": "code",
   "execution_count": null,
   "metadata": {
    "executionInfo": {
     "elapsed": 618,
     "status": "ok",
     "timestamp": 1671807986235,
     "user": {
      "displayName": "GAB VARGAS",
      "userId": "11481520464127115181"
     },
     "user_tz": 180
    },
    "id": "j0M_ojWDm0i2"
   },
   "outputs": [],
   "source": [
    "#We import image processing package library and a modulus\n",
    "from skimage.color import rgb2gray, rgb2hsv"
   ]
  },
  {
   "cell_type": "code",
   "execution_count": null,
   "metadata": {
    "colab": {
     "base_uri": "https://localhost:8080/",
     "height": 269
    },
    "executionInfo": {
     "elapsed": 909,
     "status": "ok",
     "timestamp": 1671809284084,
     "user": {
      "displayName": "GAB VARGAS",
      "userId": "11481520464127115181"
     },
     "user_tz": 180
    },
    "id": "B8QSoYq4m4jX",
    "outputId": "9df01a66-a485-4547-91e4-c19b5fa6be93"
   },
   "outputs": [],
   "source": [
    "# Capybara image in grey map\n",
    "capy_gray = rgb2gray(img_cvt)    \n",
    "plt.imshow(capy_gray, cmap='gray')\n",
    "plt.show()"
   ]
  },
  {
   "cell_type": "code",
   "execution_count": null,
   "metadata": {
    "colab": {
     "base_uri": "https://localhost:8080/",
     "height": 297
    },
    "executionInfo": {
     "elapsed": 821,
     "status": "ok",
     "timestamp": 1671809198948,
     "user": {
      "displayName": "GAB VARGAS",
      "userId": "11481520464127115181"
     },
     "user_tz": 180
    },
    "id": "kMGy9Oq6hpdb",
    "outputId": "84c139f1-53f9-416f-fda4-e88b02e77ffd"
   },
   "outputs": [],
   "source": [
    "# We can make additional initial image processin\n",
    "\n",
    "from skimage import filters\n",
    "from skimage import exposure\n",
    "\n",
    "val = filters.threshold_otsu(capy_gray) # Here we filter by defining a treshold  value\n",
    "mask = capy_gray < val # We generate a mask of the image by filtering some values\n",
    "hist, bins_center = exposure.histogram(capy_gray) # Define a exposure histogram, where each bin of the histogram is a image value frequency\n",
    "plt.figure(figsize=(9, 4)) #prepare template of the image\n",
    "plt.subplot(1,3,1) #first subplot\n",
    "plt.imshow(capy_gray, cmap='gray', interpolation='nearest') #show in gray scale\n",
    "plt.axis('off')\n",
    "plt.subplot(1,3,2) #second subplot\n",
    "plt.imshow(capy_gray < val, cmap='gray', interpolation='nearest')\n",
    "plt.subplot(1,3,3) #second subplot\n",
    "plt.plot(bins_center, hist) # plot the histogram\n",
    "plt.tight_layout()\n",
    "plt.show()\n"
   ]
  },
  {
   "cell_type": "markdown",
   "metadata": {
    "id": "TM-VzZETGV4x"
   },
   "source": [
    "Check more examples in the [scikit python package](https://scikit-image.org/docs/stable/auto_examples/index.html) !"
   ]
  },
  {
   "cell_type": "markdown",
   "metadata": {
    "id": "GLTEXBQ0VYVB"
   },
   "source": [
    "# Now with the image do some matrix operation and check the result. For example, we can distort the image by increasing the values in one channel"
   ]
  },
  {
   "cell_type": "code",
   "execution_count": null,
   "metadata": {
    "executionInfo": {
     "elapsed": 246,
     "status": "ok",
     "timestamp": 1671809291182,
     "user": {
      "displayName": "GAB VARGAS",
      "userId": "11481520464127115181"
     },
     "user_tz": 180
    },
    "id": "Jjq1Ok8YHr2t"
   },
   "outputs": [],
   "source": [
    "distort= img[:,:,0] * 30\n"
   ]
  },
  {
   "cell_type": "code",
   "execution_count": null,
   "metadata": {
    "colab": {
     "base_uri": "https://localhost:8080/"
    },
    "executionInfo": {
     "elapsed": 242,
     "status": "ok",
     "timestamp": 1671809293173,
     "user": {
      "displayName": "GAB VARGAS",
      "userId": "11481520464127115181"
     },
     "user_tz": 180
    },
    "id": "EebnTmBZGc4Z",
    "outputId": "da6674b0-ace4-4ef5-eaf9-979902c70c85"
   },
   "outputs": [],
   "source": [
    "capy_distort= capy_gray * distort\n",
    "print(capy_distort)"
   ]
  },
  {
   "cell_type": "code",
   "execution_count": null,
   "metadata": {
    "colab": {
     "base_uri": "https://localhost:8080/",
     "height": 269
    },
    "executionInfo": {
     "elapsed": 882,
     "status": "ok",
     "timestamp": 1671809298458,
     "user": {
      "displayName": "GAB VARGAS",
      "userId": "11481520464127115181"
     },
     "user_tz": 180
    },
    "id": "-xCl4_TUHRMs",
    "outputId": "8439c6c0-0235-4d31-a67b-3c56f46b563d"
   },
   "outputs": [],
   "source": [
    "plt.imshow(capy_distort)\n",
    "plt.show()"
   ]
  },
  {
   "cell_type": "markdown",
   "metadata": {
    "id": "jLhS1StKQe89"
   },
   "source": [
    "# Some *good practices* \n",
    "\n",
    "Python is a language developed in english, so write as you write in english\n",
    "* Is a good practice not use accent marks.\n",
    "* Avoid the use of 'ñ'.\n",
    "Also, help Python understand your code:\n",
    "* DO NOT use spaces for the name of a variable.\n",
    "* DO NOT use variable names started in numbers.\n"
   ]
  },
  {
   "cell_type": "code",
   "execution_count": null,
   "metadata": {
    "id": "-k0eVJcYU6s6"
   },
   "outputs": [],
   "source": [
    "# commond errors\n",
    "# example : Check the error\n",
    "variable_sinespacio=[1, 5, 8, 10, 15]"
   ]
  },
  {
   "cell_type": "markdown",
   "metadata": {
    "id": "ol_56APx-3Ht"
   },
   "source": [
    "# 6. Don't forget to send your work!\n",
    "Please don't forget to send your work to give you feedback about your progress. [form](https://forms.gle/sME7JXuoB4ztMCFq6)"
   ]
  },
  {
   "cell_type": "markdown",
   "metadata": {
    "id": "tFWwWEH7I8UZ"
   },
   "source": [
    "##ANNEXES"
   ]
  },
  {
   "cell_type": "markdown",
   "metadata": {
    "id": "MZj9giQmW94N"
   },
   "source": [
    "# Lambda functions\n",
    "\n",
    "![lambda_syntax.png](data:image/png;base64,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)"
   ]
  },
  {
   "cell_type": "markdown",
   "metadata": {
    "id": "ieuC4qjrfasy"
   },
   "source": [
    "Sometimes programmers only use a function once. Python’s lambda (λ) keyword lets you define a function in a single line of code and use it immediately.\n",
    "\n",
    "A lambda function, also called an anonymous or inline function, is a single line of code that evaluates an expression. Lambda functions can accept any number of parameters and will always return a value. \n",
    "\n",
    "## When should we use Lambda functions?\n",
    "\n",
    "You can use lambda functions in place of any regular function that evaluates a single expression and returns a value. So if your function needs to change a global variable, read from a file, or evaluate more than one expression, it will not work as a lambda function. "
   ]
  },
  {
   "cell_type": "code",
   "execution_count": null,
   "metadata": {
    "id": "gxcxIzarfqwH"
   },
   "outputs": [],
   "source": [
    "# Translate kawaii function into lamda function structure"
   ]
  },
  {
   "cell_type": "markdown",
   "metadata": {
    "id": "xLZlW1DDlDts"
   },
   "source": [
    "Check  HERE for the solution"
   ]
  },
  {
   "cell_type": "code",
   "execution_count": null,
   "metadata": {
    "colab": {
     "base_uri": "https://localhost:8080/"
    },
    "executionInfo": {
     "elapsed": 257,
     "status": "ok",
     "timestamp": 1643220863447,
     "user": {
      "displayName": "GAB VARGAS",
      "photoUrl": "https://lh3.googleusercontent.com/a/default-user=s64",
      "userId": "11481520464127115181"
     },
     "user_tz": 180
    },
    "id": "JVQFyOUFlRiT",
    "outputId": "3e6f88fc-3e8b-485c-cc98-702a32477294"
   },
   "outputs": [],
   "source": [
    "#@title SOLUTION\n",
    "kawaii_lambda = lambda capybara, mariposa, pelicano: (capybara**2) + (mariposa *3) - pelicano \n",
    "print(kawaii_lambda(2,3,4))"
   ]
  }
 ],
 "metadata": {
  "colab": {
   "provenance": []
  },
  "kernelspec": {
   "display_name": "Python 3 (ipykernel)",
   "language": "python",
   "name": "python3"
  },
  "language_info": {
   "codemirror_mode": {
    "name": "ipython",
    "version": 3
   },
   "file_extension": ".py",
   "mimetype": "text/x-python",
   "name": "python",
   "nbconvert_exporter": "python",
   "pygments_lexer": "ipython3",
   "version": "3.10.13"
  },
  "vscode": {
   "interpreter": {
    "hash": "12332c04e63b3d97ab5935cc5fd411f9045fe7cff541a8f514cbe7b01e0ce6fb"
   }
  }
 },
 "nbformat": 4,
 "nbformat_minor": 1
}
