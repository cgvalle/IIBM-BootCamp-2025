{
 "cells": [
  {
   "cell_type": "code",
   "execution_count": 1,
   "id": "fdfb6d82",
   "metadata": {},
   "outputs": [
    {
     "name": "stdout",
     "output_type": "stream",
     "text": [
      "Hello Bootcamp!\n"
     ]
    }
   ],
   "source": [
    "# This notebook is just as an example to be downloaded\n",
    "print(\"Hello Bootcamp!\")"
   ]
  },
  {
   "cell_type": "code",
   "execution_count": null,
   "id": "184b2ef9",
   "metadata": {},
   "outputs": [],
   "source": []
  }
 ],
 "metadata": {
  "kernelspec": {
   "display_name": "Python 3 (ipykernel)",
   "language": "python",
   "name": "python3"
  },
  "language_info": {
   "codemirror_mode": {
    "name": "ipython",
    "version": 3
   },
   "file_extension": ".py",
   "mimetype": "text/x-python",
   "name": "python",
   "nbconvert_exporter": "python",
   "pygments_lexer": "ipython3",
   "version": "3.9.7"
  }
 },
 "nbformat": 4,
 "nbformat_minor": 5
}
