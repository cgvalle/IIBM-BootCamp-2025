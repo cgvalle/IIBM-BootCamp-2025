{
 "cells": [
  {
   "cell_type": "markdown",
   "id": "b04a9d23",
   "metadata": {},
   "source": [
    "## IIBM Bootcamp 2025: Day 1 Afternoon"
   ]
  },
  {
   "cell_type": "markdown",
   "id": "9ae300a6",
   "metadata": {},
   "source": [
    "### Instructors Carlos Valle (cgvalle@uc.cl) and Nicolás Garrido (nagarrido@uc.cl)\n"
   ]
  },
  {
   "cell_type": "markdown",
   "id": "508e1926",
   "metadata": {},
   "source": [
    "This jupyter noteboook will cover the tools that will be used in the IIBM Bootcamp 2025 and elemental Python syntax and functions.\n",
    "\n",
    "### Day Agenda:\n",
    "\n",
    "***Morning***\n",
    "1. Setting up Google Colab\n",
    "2. What is Github\n",
    "3. How the get the material into Colab\n",
    "4. Python variables \n",
    "    * Strings\n",
    "    * Numbers (int, float)\n",
    "    * Booleans\n",
    "    * Lists\n",
    "    * Dicts\n",
    "    \n",
    "***Afternoon***\n",
    "\n",
    "5. Control flow in Python\n",
    "    * if\n",
    "    * for\n",
    "    * while\n",
    "    * continue\n",
    "    * break\n",
    "6. Don't forget to send your work!\n"
   ]
  },
  {
   "cell_type": "markdown",
   "id": "a5b08ac6",
   "metadata": {},
   "source": [
    "# 5. Control flow in Python"
   ]
  },
  {
   "cell_type": "markdown",
   "id": "f2303619",
   "metadata": {},
   "source": [
    "As the name suggests, control flow functions in Python help to arrange the order in which the code executes. It is regulated by conditional statements, loops, and functions calls. There are two main types:\n",
    "* Selection/Decision: `if`, `else`\n",
    "* Loops: `for`, `while`"
   ]
  },
  {
   "cell_type": "markdown",
   "id": "830f68ea",
   "metadata": {},
   "source": [
    "## 5.1 `If`, `else` statements"
   ]
  },
  {
   "cell_type": "markdown",
   "id": "de7bf811",
   "metadata": {},
   "source": [
    "![if](D1_if.png)"
   ]
  },
  {
   "cell_type": "markdown",
   "id": "4f839933",
   "metadata": {},
   "source": [
    "With the use of `if`, we can control if a part of the code is executed or not. The condition represents a boolean decision (`True` or `False`). If `True`, the code goes through the if block. If `False`, the code goes to the else block (if present) and then continues with the execution of the rest of the code.\n",
    "The syntax is:\n",
    "\n",
    "```\n",
    "...\n",
    "if condition:\n",
    "    do_something\n",
    "...    \n",
    " \n",
    "\n",
    "```\n",
    "\n",
    "**Don't forget the colon at the end of `if`!!**. Where `condition` is a boolean variable and `do_something` if a specific chunk of code that we want to execute if the condition is `True`.  For example:"
   ]
  },
  {
   "cell_type": "code",
   "execution_count": 2,
   "id": "c9313a67",
   "metadata": {},
   "outputs": [
    {
     "name": "stdout",
     "output_type": "stream",
     "text": [
      "Hello Bootcamp!\n"
     ]
    }
   ],
   "source": [
    "# Print only if True!\n",
    "saludo = True\n",
    "if saludo:\n",
    "    print(\"Hello Bootcamp!\")"
   ]
  },
  {
   "cell_type": "markdown",
   "id": "194d8dbd",
   "metadata": {},
   "source": [
    "The print was executed only when `saludo` is `True` in the previous example. If saludo is `False`, we want to print `\"Bye Bootcamp :(\"`, this is possible using `else`. The syntax when using `else` is:\n",
    "\n",
    "\n",
    "```\n",
    "...\n",
    "if condition:\n",
    "    do_something\n",
    "else:\n",
    "    do_something_else\n",
    "...\n",
    "```\n",
    "\n",
    "**Don't forget the colon at the end of `if` and `else`!!**. If `condition` is `True`, `do_something` is executed. If `condition` is `False`, `do_something_else` is excecuted. For example:"
   ]
  },
  {
   "cell_type": "code",
   "execution_count": 3,
   "id": "0e17203d",
   "metadata": {},
   "outputs": [
    {
     "name": "stdout",
     "output_type": "stream",
     "text": [
      "Hello Bootcamp!\n"
     ]
    }
   ],
   "source": [
    "# If saludo is True, print \"Hello Bootcamp!\". If saludo is False \"Bye Bootcamp :(\"\n",
    "saludo = True\n",
    "if saludo:\n",
    "    print(\"Hello Bootcamp!\")\n",
    "else:\n",
    "    print(\"Bye Bootcamp :(\")"
   ]
  },
  {
   "cell_type": "markdown",
   "id": "b224065a",
   "metadata": {},
   "source": [
    "### 5.1.1 Exercise"
   ]
  },
  {
   "cell_type": "markdown",
   "id": "bbd4ce60",
   "metadata": {},
   "source": [
    "Since you just learned how `if` conditional statements work, you are given the task to determine if a particular number is positive, negative, or zero. For that, you have a variable called `number`, which stores an integer value. Use `if` and `else` statements to print `\"Positive +\"`, `\"Negative -\"` or `\"Zero 0\"` according to the value of the variable `number`."
   ]
  },
  {
   "cell_type": "code",
   "execution_count": 4,
   "id": "4873079f",
   "metadata": {},
   "outputs": [],
   "source": [
    "number = \"<TODO>\""
   ]
  },
  {
   "cell_type": "code",
   "execution_count": 5,
   "id": "3aaa4f49",
   "metadata": {},
   "outputs": [
    {
     "name": "stdout",
     "output_type": "stream",
     "text": [
      "Positive +\n"
     ]
    }
   ],
   "source": [
    "#@title SOLUTION\n",
    "number = 1  # Any number\n",
    "\n",
    "if number > 0 :\n",
    "    # Is positive\n",
    "    print(\"Positive +\")\n",
    "else:\n",
    "    # Can be negative or zero\n",
    "    if number < 0:\n",
    "        # Is negative\n",
    "        print(\"Negative -\")\n",
    "    else:\n",
    "        # Is Zero\n",
    "        print(\"Zero 0\")\n",
    "    \n"
   ]
  },
  {
   "cell_type": "markdown",
   "id": "bf79f14b",
   "metadata": {},
   "source": [
    "### 5.1.2 Exercise "
   ]
  },
  {
   "cell_type": "markdown",
   "id": "de6ac346",
   "metadata": {},
   "source": [
    "We want to know more about numbers, particularly those between 1 and 10. You are given the task to print if a number is between 1-10, 11-20, 21-30, 31-40 and 40-51 or outside of that range. For example, if the number is 10, it should print `\"Number is between 1-10\"`. For that, you have a variable called `number`, which stores an integer value. HINT: if you want to know if a number is bigger than the other, you can use `>` operator (more of this tomorrow!), where `a > b` is `True` if `a` is bigger than `b`, otherwise is `False`.    "
   ]
  },
  {
   "cell_type": "code",
   "execution_count": 6,
   "id": "04b82da5",
   "metadata": {},
   "outputs": [],
   "source": [
    "number = \"<TODO>\""
   ]
  },
  {
   "cell_type": "code",
   "execution_count": 7,
   "id": "c46e5c7a",
   "metadata": {},
   "outputs": [
    {
     "name": "stdout",
     "output_type": "stream",
     "text": [
      "number is between 21-30\n"
     ]
    }
   ],
   "source": [
    "#@title SOLUTION\n",
    "# Nesting if's statements is a good excersice. So only \">\" will be use\n",
    "number = 24  # number is a integer value\n",
    "\n",
    "if number > 0:\n",
    "    if number > 10:\n",
    "        if number > 20:\n",
    "            if number > 30:\n",
    "                if number > 40:\n",
    "                    if number > 50:\n",
    "                        print(\"Outside of range\")\n",
    "                    else:\n",
    "                        print(\"Number is between 41-50\")\n",
    "                else:\n",
    "                    print(\"Number is between 31-40\")\n",
    "            else:\n",
    "                print(\"number is between 21-30\")\n",
    "        else:\n",
    "            print(\"Number is between 11-20\")\n",
    "    else:\n",
    "        print(\"Number is between 1-10\")\n",
    "else:\n",
    "    print(\"Outside of range\")\n",
    "\n",
    "\n"
   ]
  },
  {
   "cell_type": "markdown",
   "id": "36795031",
   "metadata": {},
   "source": [
    "## 5.2 Loops (`for` , `while`)"
   ]
  },
  {
   "cell_type": "markdown",
   "id": "61541987",
   "metadata": {},
   "source": [
    "Loops are used to iterate over a block of code. `for` loops are used when we know the number of iterations that we need and `while` loops are used when it is unknown the number of times to iterate beforehand."
   ]
  },
  {
   "cell_type": "markdown",
   "id": "f9f59f62",
   "metadata": {},
   "source": [
    "### `for` Loops"
   ]
  },
  {
   "cell_type": "markdown",
   "id": "9b339fe5",
   "metadata": {},
   "source": [
    "A `for` loop is used for iterating over a sequence (like a list, dictionary, string, etc). The syntax is:\n",
    "\n",
    "```\n",
    "...\n",
    "for x in sequence:\n",
    "    do_something(x)\n",
    "...\n",
    "````\n",
    "\n",
    "The variable `x` can have any name and represents the current item we are on the iteration. `sequence` is an iterable element that contains at least one value!. If the sequence has `len` 0, the block of code inside the loop will not be executed. Finally, `do_something` is the block of code inside the `for` loop that uses the current item `x`. For example:\n",
    "\n",
    "\n",
    "\n",
    "\n"
   ]
  },
  {
   "cell_type": "code",
   "execution_count": 8,
   "id": "330de2ac",
   "metadata": {},
   "outputs": [
    {
     "name": "stdout",
     "output_type": "stream",
     "text": [
      "apple\n",
      "banana\n",
      "cherry\n"
     ]
    }
   ],
   "source": [
    "# Iterate over a list of fruits\n",
    "fruits = [\"apple\", \"banana\", \"cherry\"]\n",
    "for x in fruits:\n",
    "      print(x)      "
   ]
  },
  {
   "cell_type": "code",
   "execution_count": 9,
   "id": "f17f1d8a",
   "metadata": {},
   "outputs": [],
   "source": [
    "# Iterate over a empty list of fruits\n",
    "empty_fruits = []\n",
    "for x in empty_fruits:\n",
    "      print(x)    \n",
    "        \n",
    "# Nothing happends!"
   ]
  },
  {
   "cell_type": "markdown",
   "id": "bae6445a",
   "metadata": {},
   "source": [
    "What if we want to count from 0 to 10 ?. We will need a sequence that has numbers from 0 to 10. It is possible to create a list with that characteristics. "
   ]
  },
  {
   "cell_type": "code",
   "execution_count": 10,
   "id": "999f0d41",
   "metadata": {},
   "outputs": [
    {
     "name": "stdout",
     "output_type": "stream",
     "text": [
      "1\n",
      "2\n",
      "3\n",
      "4\n",
      "5\n",
      "6\n",
      "7\n",
      "8\n",
      "9\n",
      "10\n"
     ]
    }
   ],
   "source": [
    "one_to_ten = [1, 2, 3, 4, 5, 6, 7, 8, 9, 10]\n",
    "for x in one_to_ten:\n",
    "    print(x)"
   ]
  },
  {
   "cell_type": "markdown",
   "id": "b8a44f6e",
   "metadata": {},
   "source": [
    "What if we now want to count from 0 to 1000 ?. Creating a list by hand is just not practical. Fortunately, Python has the function `range` that allows creating sequences of integers!. To replicate the last example, let's count to ten again."
   ]
  },
  {
   "cell_type": "code",
   "execution_count": 11,
   "id": "2edc93c2",
   "metadata": {},
   "outputs": [
    {
     "name": "stdout",
     "output_type": "stream",
     "text": [
      "0\n",
      "1\n",
      "2\n",
      "3\n",
      "4\n",
      "5\n",
      "6\n",
      "7\n",
      "8\n",
      "9\n"
     ]
    }
   ],
   "source": [
    "for x in range(10):  # We are using one line less!\n",
    "    print(x)"
   ]
  },
  {
   "cell_type": "markdown",
   "id": "a97dd714",
   "metadata": {},
   "source": [
    "### 5.2.1 Exercise \n",
    "With space exploration, new and interesting materials have been found. Some of them are `\"Diamondium\"`, `\"Unobtainium`, `\"plasticium\"` and `\"Rupis\"`. The price of a kilogram of each material is held by the total number of characters of each name times 1000. For example, `Rupis` has 5 letters so it price is $5000. Create a code that can print the price of the materials inside a list. **RESTRICTION: You can't use the `len` function.**"
   ]
  },
  {
   "cell_type": "code",
   "execution_count": 12,
   "id": "66c7525d",
   "metadata": {},
   "outputs": [
    {
     "data": {
      "text/plain": [
       "'<TODO> print prices in format: material_name, price'"
      ]
     },
     "execution_count": 12,
     "metadata": {},
     "output_type": "execute_result"
    }
   ],
   "source": [
    "# Print the prices for the materials in the list materials\n",
    "materials = [\"Diamondium\", \"Unobtainium\", \"plasticium\", \"Rupis\"]\n",
    "\n",
    "\"<TODO> print prices in format: material_name, price\""
   ]
  },
  {
   "cell_type": "code",
   "execution_count": 13,
   "id": "8f3f53aa",
   "metadata": {},
   "outputs": [
    {
     "name": "stdout",
     "output_type": "stream",
     "text": [
      "Diamondium 10000\n",
      "Unobtainium 11000\n",
      "plasticium 10000\n",
      "Rupis 5000\n"
     ]
    }
   ],
   "source": [
    "#@title SOLUTION\n",
    "# Let's iterate over each metarial and then count it's length\n",
    "\n",
    "# Iterating over materials\n",
    "for material in materials:\n",
    "    cont = 0  # variable to count the number of letters of each material\n",
    "    for _ in material:\n",
    "        cont += 1 # Sum 1 each time we iterate over a letter\n",
    "    print(material, cont*1000)\n",
    "    "
   ]
  },
  {
   "cell_type": "markdown",
   "id": "510e4cc8",
   "metadata": {},
   "source": [
    "### 5.2.3 Exercise \n",
    "We have already calculated the price of each material and printed it. Now we want to save the prices into a list. Using as a reference the previous exercise, create a list `prices` with the price of each material. "
   ]
  },
  {
   "cell_type": "code",
   "execution_count": 14,
   "id": "7756bf6a",
   "metadata": {},
   "outputs": [],
   "source": [
    "# Create a list with the prices of the materials!\n",
    "prices = \"<TODO>\" "
   ]
  },
  {
   "cell_type": "code",
   "execution_count": 15,
   "id": "f2d29760",
   "metadata": {},
   "outputs": [
    {
     "name": "stdout",
     "output_type": "stream",
     "text": [
      "Diamondium 10000\n",
      "Unobtainium 11000\n",
      "plasticium 10000\n",
      "Rupis 5000\n",
      "[10000, 11000, 10000, 5000]\n"
     ]
    }
   ],
   "source": [
    "#@title SOLUTION\n",
    "# Let's iterate over each metarial and then count it's length\n",
    "\n",
    "prices = []  # List\n",
    "\n",
    "# Iterating over materials\n",
    "for material in materials:\n",
    "    cont = 0  # variable to count the number of letters of each material\n",
    "    for _ in material:\n",
    "        cont += 1 # Sum 1 each time we iterate over a letter\n",
    "    \n",
    "    # Saving prices into list prices\n",
    "    prices.append(cont*1000)\n",
    "        \n",
    "    print(material, cont*1000)\n",
    "\n",
    "print(prices)\n",
    "    "
   ]
  },
  {
   "cell_type": "markdown",
   "id": "51d53bf0",
   "metadata": {},
   "source": [
    "### 5.2.4 Exercise \n"
   ]
  },
  {
   "cell_type": "markdown",
   "id": "3571446d",
   "metadata": {},
   "source": [
    "Finally, in order to evaluate if you buy the materials or not you need to know the total cost of everything. Using `for` loops, sum all the values in the `prices` list variable."
   ]
  },
  {
   "cell_type": "code",
   "execution_count": 16,
   "id": "d507e282",
   "metadata": {},
   "outputs": [],
   "source": [
    "# Sum the prices for all material\n",
    "total_price = \"<TODO>\""
   ]
  },
  {
   "cell_type": "code",
   "execution_count": 17,
   "id": "09ea2f1c",
   "metadata": {},
   "outputs": [
    {
     "name": "stdout",
     "output_type": "stream",
     "text": [
      "The total price is: 36000\n"
     ]
    }
   ],
   "source": [
    "#@title SOLUTION\n",
    "# We can use the list prices that was just created\n",
    "\n",
    "total_price = 0  \n",
    "\n",
    "for price in prices:\n",
    "    total_price += price  # Adding the price of each material into total_price\n",
    "    \n",
    "\n",
    "print(\"The total price is:\", total_price)\n",
    "\n",
    "    "
   ]
  },
  {
   "cell_type": "markdown",
   "id": "b2ceda6c",
   "metadata": {},
   "source": [
    "### `while` Loops\n",
    "A `while`loop is used to iterate over a block of code as long a condition is `True`. We usually use this loop when we don't know the number of times to iterate. The syntax is:\n",
    "\n",
    "```\n",
    "...\n",
    "while condition:\n",
    "    do_something\n",
    "...\n",
    "\n",
    "```\n",
    "The variable `condition` is a boolean variable that is checked at every iteration, meaning that the loop could end at any moment if `condition` is `False`.\n"
   ]
  },
  {
   "cell_type": "code",
   "execution_count": 18,
   "id": "59165ca0",
   "metadata": {},
   "outputs": [
    {
     "name": "stdout",
     "output_type": "stream",
     "text": [
      "Hello!\n"
     ]
    }
   ],
   "source": [
    "# The loops ends inmideately as the condition is set to False\n",
    "condition = True\n",
    "while condition:\n",
    "    condition = False\n",
    "    print(\"Hello!\")"
   ]
  },
  {
   "cell_type": "markdown",
   "id": "a723f880",
   "metadata": {},
   "source": [
    "### 5.2.5 Exercise\n",
    "Some people in the Math department want to sum the numbers from o to 100, but since someone lost all their pencils, they asked you, who knows how `while` loops work, to do it for them. Using `while`, sum the numbers from 0 to 100."
   ]
  },
  {
   "cell_type": "code",
   "execution_count": 19,
   "id": "c37a3bca",
   "metadata": {},
   "outputs": [],
   "source": [
    "# Sum the numbers from 0 to 100 using while:\n",
    "total_sum = \"<TODO>\""
   ]
  },
  {
   "cell_type": "code",
   "execution_count": 20,
   "id": "37c45268",
   "metadata": {},
   "outputs": [
    {
     "name": "stdout",
     "output_type": "stream",
     "text": [
      "5050\n"
     ]
    }
   ],
   "source": [
    "#@title SOLUTION\n",
    "total_sum = 0\n",
    "\n",
    "# We need a counter and a condition to end the while loop\n",
    "cont = 0\n",
    "while cont < 101:  # To 101 to count until 100\n",
    "    total_sum += cont  # Adding the numbersr\n",
    "    cont += 1  # increasing the counter by 1 on each iteartion\n",
    "    \n",
    "print(total_sum)\n"
   ]
  },
  {
   "cell_type": "markdown",
   "id": "d3cafe3b",
   "metadata": {},
   "source": [
    "## `break` and `continue` statements"
   ]
  },
  {
   "cell_type": "markdown",
   "id": "4b0b811c",
   "metadata": {},
   "source": [
    "`break` and `continue` are useful statements to control the execution of `for` and `while` loops. `break` allows us to end a loop sooner. Meanwhile, `continue` returns to the beginning of the loop for the next iteration. \n"
   ]
  },
  {
   "cell_type": "markdown",
   "id": "a9990d1d",
   "metadata": {},
   "source": [
    "### 5.2.6 Exercise\n",
    "The people from the Math department were delighted with your help, so they asked you to help them again. Now, instead of performing the sum of all the numbers between 0 and 100, they want you to stop the sum if it is more than 50. Using a `while` loop, create a block of code that stops if the sum is bigger than 50 using `break` statement."
   ]
  },
  {
   "cell_type": "code",
   "execution_count": 21,
   "id": "65816d44",
   "metadata": {},
   "outputs": [],
   "source": [
    "# Sum the numbers from 0 to 100 using while, but stop if total_sum > 50 (USE BREAK)\n",
    "total_sum = \"<TODO>\""
   ]
  },
  {
   "cell_type": "code",
   "execution_count": 22,
   "id": "a17e197d",
   "metadata": {},
   "outputs": [
    {
     "name": "stdout",
     "output_type": "stream",
     "text": [
      "55\n"
     ]
    }
   ],
   "source": [
    "#@title SOLUTION\n",
    "total_sum = 0\n",
    "\n",
    "# We need a counter and a condition to end the while loop\n",
    "cont = 0\n",
    "while cont < 101:  # To 101 to count until 100\n",
    "    total_sum += cont  # Adding the numbers\n",
    "    cont += 1  # increasing the counter by 1 on each iteartion\n",
    "    # check if we have reached 50\n",
    "    if total_sum > 50:  # if the sum is bigger than 50\n",
    "        # Break out of loop if reached\n",
    "        break\n",
    "    \n",
    "    \n",
    "print(total_sum)\n"
   ]
  },
  {
   "cell_type": "markdown",
   "id": "33543c5f",
   "metadata": {},
   "source": [
    "[NOTE]: Would it be possible to get the list of numbers from the previous result if we wanted to?"
   ]
  },
  {
   "cell_type": "code",
   "execution_count": 23,
   "id": "23dd0be8",
   "metadata": {},
   "outputs": [
    {
     "name": "stdout",
     "output_type": "stream",
     "text": [
      "The total sum is: 55\n",
      "The list of numbers is: [1, 2, 3, 4, 5, 6, 7, 8, 9, 10, 11]\n"
     ]
    }
   ],
   "source": [
    "#@title SOLUTION\n",
    "total_sum = 0\n",
    "## AND if we want to make a list from the otput numbers\n",
    "list_numbers = []  # Empty list\n",
    "\n",
    "# We need a counter and a condition to end the while loop\n",
    "cont = 0\n",
    "while cont < 101:  # To 101 to count until 100\n",
    "    total_sum += cont  # Adding the numbers\n",
    "    cont += 1  # increasing the counter by 1 on each iteartion\n",
    "    # check the output numbers\n",
    "    #print(cont)\n",
    "    list_numbers.append(cont)  # Adding the numbers to the list\n",
    "    # check if we have reached 50\n",
    "    if total_sum > 50:  # if the sum is bigger than 50\n",
    "        # Break out of loop if reached\n",
    "        break\n",
    "    \n",
    "print('The total sum is:', total_sum)\n",
    "print('The list of numbers is:', list_numbers)"
   ]
  },
  {
   "cell_type": "markdown",
   "id": "62391ffc",
   "metadata": {},
   "source": [
    "### 5.2.6 Exercise\n",
    "As a last favor, the people from the math department want you to sum all the numbers from 0 to 100, except for the number in the range of 15 to 27. Using `while` loops and `continue` statements, avoid summing the numbers between 15 and 27."
   ]
  },
  {
   "cell_type": "code",
   "execution_count": 24,
   "id": "7cf3ff1e",
   "metadata": {},
   "outputs": [],
   "source": [
    "# Sum all the numbers between 0 and 100, with the exception of the ones in the range of 15 to 27.\n",
    "total_sum = \"<TODO>\""
   ]
  },
  {
   "cell_type": "code",
   "execution_count": 25,
   "id": "3737e0ed",
   "metadata": {},
   "outputs": [
    {
     "name": "stdout",
     "output_type": "stream",
     "text": [
      "4777\n"
     ]
    }
   ],
   "source": [
    "#@title SOLUTION\n",
    "total_sum = 0\n",
    "\n",
    "# We need a counter and a condition to end the while loop\n",
    "cont = 0\n",
    "while cont < 101:  # To 101 to count until 100    \n",
    "    if cont >= 15 and cont <= 27:  # if the number(cont) is between 15-27 ignore\n",
    "        cont += 1  # add 1 to the counter, otherwise the loop will never end\n",
    "        continue  # continue with the next iteration\n",
    "    \n",
    "    total_sum += cont  # Adding the numbers\n",
    "    cont += 1  # increasing the counter by 1 on each iteartion    \n",
    "print(total_sum)\n"
   ]
  },
  {
   "cell_type": "markdown",
   "id": "01e136a5",
   "metadata": {},
   "source": [
    "## 5.3 More Exercises \n",
    "\n",
    "### 5.3.1 Exercise\n",
    "Using list indexing, print the odd positions of the elements of a `number_list` variable."
   ]
  },
  {
   "cell_type": "code",
   "execution_count": 26,
   "id": "cca1959b",
   "metadata": {},
   "outputs": [
    {
     "data": {
      "text/plain": [
       "'<TODO>'"
      ]
     },
     "execution_count": 26,
     "metadata": {},
     "output_type": "execute_result"
    }
   ],
   "source": [
    "# Print only odd positions in number_list\n",
    "number_list = [1, 2, 3, 4, 5, 6, 7, 8, 9, 10, 11, 12, 13, 14, 15]\n",
    "\"<TODO>\"\n"
   ]
  },
  {
   "cell_type": "code",
   "execution_count": 27,
   "id": "2fe90de2",
   "metadata": {},
   "outputs": [
    {
     "name": "stdout",
     "output_type": "stream",
     "text": [
      "[2, 4, 6, 8, 10, 12, 14]\n"
     ]
    }
   ],
   "source": [
    "#@title SOLUTION\n",
    "# Using lis indexing\n",
    "print(number_list[1::2])"
   ]
  },
  {
   "cell_type": "markdown",
   "id": "eaa808e7",
   "metadata": {},
   "source": [
    "### 5.3.2 Exercise\n",
    "Using `while`, iterate over the variable `pets_names` and append the names to the variable `pets` until encounters an empty name `\"\"`.\n",
    "\n",
    "\n"
   ]
  },
  {
   "cell_type": "code",
   "execution_count": 28,
   "id": "4d51621c",
   "metadata": {},
   "outputs": [],
   "source": [
    "pets_name = [\"Moncho\", \"Mona\", \"Zapallo\", \"Pelusa\", \"\", \"Blanquito\", \"Negro\"]\n",
    "pets = []"
   ]
  },
  {
   "cell_type": "code",
   "execution_count": 29,
   "id": "5b68ca0d",
   "metadata": {},
   "outputs": [
    {
     "name": "stdout",
     "output_type": "stream",
     "text": [
      "['Moncho', 'Mona', 'Zapallo', 'Pelusa']\n"
     ]
    }
   ],
   "source": [
    "#@title SOLUTION\n",
    "\n",
    "# Iterate until it enocunter an empty string\n",
    "for pet in pets_name:\n",
    "    if pet == \"\":  # if the name is empty\n",
    "        break  # End the for loop\n",
    "        \n",
    "    # Append elements to the pets list\n",
    "    pets.append(pet)\n",
    "    \n",
    "print(pets)\n",
    "\n"
   ]
  },
  {
   "cell_type": "markdown",
   "id": "85039b3e",
   "metadata": {},
   "source": [
    "# 6. Don't forget to send your work!"
   ]
  },
  {
   "cell_type": "markdown",
   "id": "32f3daf9",
   "metadata": {},
   "source": [
    "Please don't forget to send your work to give you feedback about your progress to this [form](https://forms.gle/sME7JXuoB4ztMCFq6). To send it, you need to download the Notebook from Colab's webpage and upload it in the last question of the form.\n"
   ]
  },
  {
   "cell_type": "code",
   "execution_count": null,
   "id": "c1d2d57d",
   "metadata": {},
   "outputs": [],
   "source": []
  }
 ],
 "metadata": {
  "kernelspec": {
   "display_name": "Python 3 (ipykernel)",
   "language": "python",
   "name": "python3"
  },
  "language_info": {
   "codemirror_mode": {
    "name": "ipython",
    "version": 3
   },
   "file_extension": ".py",
   "mimetype": "text/x-python",
   "name": "python",
   "nbconvert_exporter": "python",
   "pygments_lexer": "ipython3",
   "version": "3.10.13"
  },
  "vscode": {
   "interpreter": {
    "hash": "cff7f0cae0f1a3a3ef4c59a2b5d765508d95d319cf032fe59fcebe39d0944d2b"
   }
  }
 },
 "nbformat": 4,
 "nbformat_minor": 5
}
