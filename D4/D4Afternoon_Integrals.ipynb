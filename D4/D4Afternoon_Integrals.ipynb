{
 "cells": [
  {
   "cell_type": "markdown",
   "id": "45f86ef9",
   "metadata": {
    "id": "45f86ef9"
   },
   "source": [
    "## IIBM Bootcamp 2025: Day 4 Afternoon\n",
    "### Instructors Carlos Valle (cgvalle@uc.cl) and Nicolás Garrido (nagarrido@uc.cl)\n",
    "\n",
    "\n",
    "This jupyter noteboook will cover how to work with derivatives and integrals in Python\n",
    "\n",
    "### Day Agenda:\n",
    "\n",
    "***Morning***\n",
    "\n",
    "10. Calculus:\n",
    "    * Derivatives\n",
    "    * Integrals\n",
    "    * Descrite implementation\n",
    "***Afternoon***\n",
    "\n",
    "11. Group Project\n",
    "    * Understanding integrals visually.\n",
    "    * Your first image filter\n",
    "    \n",
    "\n",
    "**Don't forget to send your work!**\n"
   ]
  },
  {
   "cell_type": "markdown",
   "id": "637173e3",
   "metadata": {
    "id": "637173e3"
   },
   "source": [
    "## 1. Integrals"
   ]
  },
  {
   "cell_type": "markdown",
   "id": "19643ad3",
   "metadata": {
    "id": "19643ad3"
   },
   "source": [
    "The integral allows the perfom the inverse proces of derivation. If acceleration is the derivative of speed, speed is obtained by the integral of acceleration. By the [Fundamental theorem of calculus](https://en.wikipedia.org/wiki/Fundamental_theorem_of_calculus):\n",
    "\n",
    "$$\n",
    "\\dfrac{d}{dx} \\int_{a}^{x} f(t) dt = f(x)\n",
    "$$\n",
    "\n",
    "We can understand integration as the inverse process of differentiation. So if we have the derivate of function, we can integrate it to get the original function. \n",
    "\n",
    "In simple terms integrate is obtaining the area under the curve for a specific range of values $(a, b)$. Although we are talking about area, if the curve is below the $x$ axis the result of the integration can be a negative value. \n",
    "\n",
    "![Area under curve](https://raw.githubusercontent.com/cgvalle/IIBM-BootCamp-2025/main/images/D5_area_integral.png)\n",
    "source: https://en.wikipedia.org/wiki/Integral\n",
    "\n",
    "As shown in the figure, since the left size of the integral of $f(x)$ is above the $x$ axis, the area obtained has a positive value and the middle part of the integral of $f(x)$ has a negative value since it below 0.\n",
    "\n",
    "While working with discrete functions, the integral of a vector can be understand has the cumulative sum of it values.\n",
    "\n",
    "### 1.1 Excersice\n",
    "Let's use again the daily covid cases provided by [MinCiencia](https://github.com/MinCiencia/Datos-COVID19). Previously, you worked with the original time-series (Dias, Casos_nuevos) to create plots and measure the semanal daily cases. \n",
    "\n",
    "Sadly, someone deleted the previous file so it no longer available, but only a plot of how the data looks is available (**Figure 1**). Fortunately, there is a backup that has the derivative of the covid daily cases. It is your work to integrate the derivated time-series to get the original values.\n",
    "\n",
    "![Daily covid cases Chile](https://raw.githubusercontent.com/cgvalle/IIBM-BootCamp-2024/main/assets/D4/daily_cases.png)\n",
    "**Figure 1.** Daily covid cases Chile\n",
    "\n",
    "**Hint:** you can use the [`integrate.cumtrapz`](https://docs.scipy.org/doc/scipy-0.14.0/reference/generated/scipy.integrate.cumtrapz.html) of `scipy` library to integrate a vector. The same function in matlab may have a similar name.\n",
    "\n",
    "\n"
   ]
  },
  {
   "cell_type": "markdown",
   "id": "6dbef8a2",
   "metadata": {
    "id": "6dbef8a2"
   },
   "source": [
    "1. Plot the derivative of the original covid cases vector variable `derivated_casos_nuevos`. It is always good to look at how the data looks.\n",
    "2. Integrate of the variable `derivated_casos_nuevos` to reconstruct the original plot.\n",
    "3. In the same plot, plot the original and derivated values for the daily covid cases in Chile."
   ]
  },
  {
   "cell_type": "code",
   "execution_count": null,
   "id": "7d795546",
   "metadata": {
    "colab": {
     "base_uri": "https://localhost:8080/"
    },
    "executionInfo": {
     "elapsed": 300,
     "status": "ok",
     "timestamp": 1643223748815,
     "user": {
      "displayName": "GAB VARGAS",
      "photoUrl": "https://lh3.googleusercontent.com/a/default-user=s64",
      "userId": "11481520464127115181"
     },
     "user_tz": 180
    },
    "id": "7d795546",
    "outputId": "d8594cdd-a58c-4ece-fbcb-c2b6101f9d2b"
   },
   "outputs": [],
   "source": [
    "# Do not modify\n",
    "!curl -O https://raw.githubusercontent.com/CarlosValleA/IIBM-BootCamp-2023/main/assets/D4/daily_cases_derivated.csv"
   ]
  },
  {
   "cell_type": "code",
   "execution_count": null,
   "id": "1efee17e",
   "metadata": {
    "colab": {
     "base_uri": "https://localhost:8080/",
     "height": 334
    },
    "executionInfo": {
     "elapsed": 453,
     "status": "ok",
     "timestamp": 1643223750611,
     "user": {
      "displayName": "GAB VARGAS",
      "photoUrl": "https://lh3.googleusercontent.com/a/default-user=s64",
      "userId": "11481520464127115181"
     },
     "user_tz": 180
    },
    "id": "1efee17e",
    "outputId": "c617ccf8-ce5d-4a04-843e-710d79b535eb"
   },
   "outputs": [],
   "source": [
    "import numpy as np\n",
    "from matplotlib import pyplot as plt\n",
    "from scipy import integrate\n",
    "\n",
    "# Loading the derivated data\n",
    "with open('daily_cases_derivated.csv') as file:\n",
    "    lines = file.readlines()\n",
    "    lines = [float(line.replace('\\n', '').split(',')[1]) for line in lines]\n",
    "daily_cases_derivated = lines\n",
    "\n",
    "\n",
    "'<TODO>'\n",
    "\n",
    "    "
   ]
  },
  {
   "cell_type": "markdown",
   "id": "c39ee6fd",
   "metadata": {},
   "source": [
    "### 1.2 Repeate the same analysis on Matlab. With the command below download the data:\n",
    "\n",
    "```R\n",
    "url = \"https://github.com/CarlosValleA/IIBM-BootCamp-2023/raw/main/assets/D4/daily_cases_derivated.mat\"\n",
    "websave('daily_cases_derivated.mat', url)\n",
    "```\n",
    "When you finish, please copy and paste your code here."
   ]
  },
  {
   "cell_type": "markdown",
   "id": "cfca5616",
   "metadata": {},
   "source": []
  },
  {
   "cell_type": "markdown",
   "id": "3f8935e0",
   "metadata": {
    "id": "3f8935e0"
   },
   "source": [
    "## 2. Filtering images with convolutions\n",
    "In image processing, a convolution is the process of adding each element of the image to its local neighbors, weighted by the kernel. In short terms, the kernel (a matrix) is move along all directions of an image doint point-wise operations between the kernel and the image.\n",
    "\n",
    "![convolution](https://upload.wikimedia.org/wikipedia/commons/1/19/2D_Convolution_Animation.gif)\n",
    "\n",
    "The [kernel](https://setosa.io/ev/image-kernels/) is usually a square matrix with odd dimension ($3x3$, $5x5$, $7x7$, etc.) that can perform blurring, sharpening, edge detection, etc. in a image. Examples for kernels are:\n",
    "\n",
    "$$\n",
    "blur = \\dfrac{1}{9}\n",
    "\\left [ \\begin{array}{c} \n",
    "1 & 1 & 1\\\\\n",
    "1 & 1 & 1\\\\\n",
    "1 & 1 & 1\n",
    "\\end{array}\\right ]\n",
    "$$ \n",
    "\n",
    "\n",
    "$$\n",
    "sharpen = \n",
    "\\left [ \\begin{array}{c} \n",
    "0 & -1 & 0\\\\\n",
    "-1 & 5 & -1\\\\\n",
    "0 & -1 & 0\n",
    "\\end{array}\\right ]\n",
    "$$ \n",
    "\n",
    "$$\n",
    "sobel_X = \n",
    "\\left [ \\begin{array}{c} \n",
    "-1 & 0 & 1\\\\\n",
    "-2 & 0 & 2\\\\\n",
    "-1 & 0 & 1\n",
    "\\end{array}\\right ]\n",
    "$$ \n",
    "\n",
    "$$\n",
    "sobel_Y = \n",
    "\\left [ \\begin{array}{c} \n",
    "1 & 2 & 1\\\\\n",
    "0 & 0 & 0\\\\\n",
    "-1 & -2 & -1\n",
    "\\end{array}\\right ]\n",
    "$$ \n",
    "\n",
    "To apply a convolutional kernel to an image you can use the `filter2D` function of [opencv](https://github.com/opencv/opencv).\n",
    "\n",
    "### 2.1 Exercise\n",
    "1. Load the image `D5_completo.jpeg` using OpenCV (`cv2`) into a variable called `img` and plot it using Matplotlib (Don't forget `plt.show()`!).\n",
    "2. Check the type of variable of `img`. What library it is using to store the image ?\n",
    "3. The color of the image may not be displayed correctly. You can use the following command to discuss it. \n",
    "\n",
    "`img_new = cv2.cvtColor(img, cv2.COLOR_BGR2RGB)`\n",
    "\n",
    "4. Search on the internet how to use the `filter2D` and apply the blur kernel, sharpen and sobelX kernel.\n",
    "5. Create your own kernel and plot the results."
   ]
  },
  {
   "cell_type": "code",
   "execution_count": null,
   "id": "0c98ae0b",
   "metadata": {
    "colab": {
     "base_uri": "https://localhost:8080/"
    },
    "executionInfo": {
     "elapsed": 667,
     "status": "ok",
     "timestamp": 1642793205923,
     "user": {
      "displayName": "GAB VARGAS",
      "photoUrl": "https://lh3.googleusercontent.com/a/default-user=s64",
      "userId": "11481520464127115181"
     },
     "user_tz": 180
    },
    "id": "0c98ae0b",
    "outputId": "8cdb2dc0-2b1a-4518-c542-1801f2ec7712"
   },
   "outputs": [],
   "source": [
    "!curl -O https://raw.githubusercontent.com/cgvalle/IIBM-BootCamp-2024/main/assets/D4/completo.jpeg"
   ]
  },
  {
   "cell_type": "code",
   "execution_count": null,
   "id": "685e5df4",
   "metadata": {
    "colab": {
     "base_uri": "https://localhost:8080/",
     "height": 324
    },
    "executionInfo": {
     "elapsed": 1128,
     "status": "ok",
     "timestamp": 1642793567297,
     "user": {
      "displayName": "GAB VARGAS",
      "photoUrl": "https://lh3.googleusercontent.com/a/default-user=s64",
      "userId": "11481520464127115181"
     },
     "user_tz": 180
    },
    "id": "685e5df4",
    "outputId": "66d99e09-5a56-4487-c129-fa56c79f4783"
   },
   "outputs": [],
   "source": [
    "#%matplotlib inline\n",
    "import cv2\n",
    "import numpy as np\n",
    "from matplotlib import pyplot as plt\n",
    "img = '<TODO>'  # completo.jpeg\n",
    "\n"
   ]
  },
  {
   "cell_type": "markdown",
   "id": "a8267b30",
   "metadata": {},
   "source": [
    "### 2.2 Matlab\n",
    "Repeate the same analysis on Matlab. With the command below download the data:\n",
    "\n",
    "```R\n",
    "url = \"https://raw.githubusercontent.com/cgvalle/IIBM-BootCamp-2024/main/assets/D4/completo.jpeg\"\n",
    "websave('completo.jpeg', url)\n",
    "```\n",
    "When you finish, please copy and paste your code here."
   ]
  },
  {
   "cell_type": "markdown",
   "id": "ee9de327",
   "metadata": {},
   "source": []
  },
  {
   "cell_type": "markdown",
   "id": "808c76a3",
   "metadata": {
    "id": "808c76a3"
   },
   "source": [
    "# **Don't forget to send your work!**\n",
    "Please don't forget to send your work to give you feedback about your progress to this [form](https://forms.gle/sME7JXuoB4ztMCFq6). To send it, you need to download the Notebook from Colab's webpage and upload it in the last question of the form."
   ]
  },
  {
   "cell_type": "code",
   "execution_count": null,
   "id": "191ec4d4",
   "metadata": {},
   "outputs": [],
   "source": []
  }
 ],
 "metadata": {
  "colab": {
   "collapsed_sections": [
    "45f86ef9",
    "3f8935e0",
    "808c76a3"
   ],
   "provenance": []
  },
  "kernelspec": {
   "display_name": "Python 3 (ipykernel)",
   "language": "python",
   "name": "python3"
  },
  "language_info": {
   "codemirror_mode": {
    "name": "ipython",
    "version": 3
   },
   "file_extension": ".py",
   "mimetype": "text/x-python",
   "name": "python",
   "nbconvert_exporter": "python",
   "pygments_lexer": "ipython3",
   "version": "3.11.4"
  }
 },
 "nbformat": 4,
 "nbformat_minor": 5
}
