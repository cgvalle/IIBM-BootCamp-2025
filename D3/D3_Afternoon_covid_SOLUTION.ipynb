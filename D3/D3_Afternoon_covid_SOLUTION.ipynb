{
 "cells": [
  {
   "cell_type": "markdown",
   "id": "b04a9d23",
   "metadata": {},
   "source": [
    "## IIBM Bootcamp 2025: Day 3 Afternoon"
   ]
  },
  {
   "cell_type": "markdown",
   "id": "9ae300a6",
   "metadata": {},
   "source": [
    "### Instructors Carlos Valle (cgvalle@uc.cl) and Nicolás Garrido (nagarrido@uc.cl)\n"
   ]
  },
  {
   "cell_type": "markdown",
   "id": "508e1926",
   "metadata": {},
   "source": [
    "This jupyter noteboook will cover the use of the NumPy and Matplotlib Python libraries and the Matlab equivalence. \n",
    "\n",
    "### Day Agenda:\n",
    "\n",
    "***Morning***\n",
    "1. Working with NumPy\n",
    "    * Arrays\n",
    "    * Vector operations\n",
    "    * Matrix operations\n",
    "    * point-wise operations\n",
    "2. Working with Matplotlib\n",
    "    * Anatomy of a figure\n",
    "    * Fundamental principles of ploting library\n",
    "    * Design of a figure\n",
    "    * Types of figures\n",
    "    \n",
    "3. Introduction to Matlab\n",
    "    * Understanding the GUI\n",
    "    * Vectors and Matrix\n",
    "    * Plots\n",
    "\n",
    "    \n",
    "***Afternoon***\n",
    "\n",
    "4. Group Project\n",
    "    * Working with real-world data\n"
   ]
  },
  {
   "cell_type": "markdown",
   "id": "a5b08ac6",
   "metadata": {},
   "source": [
    "# 4. Group Project\n",
    "\n"
   ]
  },
  {
   "cell_type": "markdown",
   "id": "9e61fcca",
   "metadata": {},
   "source": [
    "The covid pandemic is still not over, and you are given the task to analyze it. You will plot and get general stats of the pandemic in this exercise for Python and Matlab languages. "
   ]
  },
  {
   "cell_type": "markdown",
   "id": "f77f52d8",
   "metadata": {},
   "source": [
    "## 4.1 Python\n",
    "Since you are going to use math operations and plots. Import the neccesary libraries"
   ]
  },
  {
   "cell_type": "code",
   "execution_count": 1,
   "id": "7b5d9697",
   "metadata": {},
   "outputs": [],
   "source": [
    "# Import the two necessary libraries\n",
    "import numpy as np\n",
    "from matplotlib import pyplot as plt\n"
   ]
  },
  {
   "cell_type": "markdown",
   "id": "5d50bb26",
   "metadata": {},
   "source": [
    "## Loading and preparing data\n",
    "Let's now download the data and load it to colab. The data was downloaded from Github report of [MinCiencia](https://github.com/MinCiencia/Datos-COVID19)"
   ]
  },
  {
   "cell_type": "code",
   "execution_count": 2,
   "id": "fd532c2e",
   "metadata": {},
   "outputs": [
    {
     "name": "stdout",
     "output_type": "stream",
     "text": [
      "  % Total    % Received % Xferd  Average Speed   Time    Time     Time  Current\n",
      "                                 Dload  Upload   Total   Spent    Left  Speed\n",
      "100  9647  100  9647    0     0  10567      0 --:--:-- --:--:-- --:--:-- 10566\n"
     ]
    }
   ],
   "source": [
    "# Downloading\n",
    "!curl -O https://raw.githubusercontent.com/cgvalle/IIBM-BootCamp-2024/main/assets/D3/daily_cases.csv"
   ]
  },
  {
   "cell_type": "code",
   "execution_count": 49,
   "id": "13592d84",
   "metadata": {},
   "outputs": [
    {
     "name": "stdout",
     "output_type": "stream",
     "text": [
      "[1, 1, 2, 1, 1, 2, 3, 5, 2, 6]\n",
      "The the type of data is a numpya array: <class 'numpy.ndarray'>\n"
     ]
    }
   ],
   "source": [
    "# Loading Data\n",
    "with open('casos_nuevos.csv', 'r') as file:\n",
    "    lines = file.read()\n",
    "    lines = lines.split('\\n')\n",
    "\n",
    "# Formating data <TODO> (The final array of this section should be a numpy array)\n",
    "lines = lines[1:]  # Let's remove header of the file\n",
    "\n",
    "clean_data = []\n",
    "for line in lines:\n",
    "    day, cases = line.split(',')  # split divides the string in a list according to ','\n",
    "    cases = int(cases)  # String to int\n",
    "    clean_data.append(cases)\n",
    "\n",
    "# The data is now in a list !\n",
    "print(clean_data[:10])\n",
    "\n",
    "# Transform list to numpy array\n",
    "data = np.array(clean_data)\n",
    "print(f\"The the type of data is a numpya array: {type(data)}\")\n"
   ]
  },
  {
   "cell_type": "markdown",
   "id": "d8e196ac",
   "metadata": {},
   "source": [
    "## Getting some useful information\n",
    "Get the weekly mean and standar deviation of the number of new covid cases. **Use NumPy Arrays!!!**"
   ]
  },
  {
   "cell_type": "code",
   "execution_count": 50,
   "id": "581ec93f",
   "metadata": {},
   "outputs": [
    {
     "data": {
      "text/plain": [
       "array([ True,  True,  True,  True,  True,  True,  True,  True,  True,\n",
       "        True,  True,  True,  True,  True,  True,  True,  True,  True,\n",
       "        True,  True,  True,  True,  True,  True,  True,  True,  True,\n",
       "        True,  True,  True,  True,  True,  True,  True,  True,  True,\n",
       "        True,  True,  True,  True,  True,  True,  True,  True,  True,\n",
       "        True,  True,  True,  True,  True,  True,  True,  True,  True,\n",
       "        True,  True,  True,  True,  True,  True,  True,  True,  True,\n",
       "        True,  True,  True,  True,  True,  True,  True,  True,  True,\n",
       "        True,  True,  True,  True,  True,  True,  True,  True,  True,\n",
       "        True,  True,  True,  True,  True,  True,  True,  True,  True,\n",
       "        True,  True,  True,  True,  True,  True,  True,  True])"
      ]
     },
     "execution_count": 50,
     "metadata": {},
     "output_type": "execute_result"
    }
   ],
   "source": [
    "# Weekly mean and std\n",
    "\n",
    "# SOLUTION 1\n",
    "weekly_mean = []\n",
    "weekly_std = []\n",
    "\n",
    "start_index = 0\n",
    "end_index = 7\n",
    "step = 7\n",
    "while end_index < len(data):\n",
    "    week = clean_data[start_index: end_index]\n",
    "    mean = np.mean(week)\n",
    "    std = np.std(week)\n",
    "    \n",
    "    weekly_mean.append(mean)\n",
    "    weekly_std.append(std)\n",
    "    \n",
    "    start_index += step\n",
    "    end_index += step\n",
    "    \n",
    "    \n",
    "weekly_mean_1  = np.array(weekly_mean) # Mean\n",
    "weekly_std_1   = np.array(weekly_std)  # std\n",
    "\n",
    "\n",
    "# SOLUTION 2\n",
    "weekly_mean = []\n",
    "weekly_std = []\n",
    "\n",
    "temp_clean_data = data  # New variable is defined to not lose the original array\n",
    "while len(temp_clean_data) >= 7:\n",
    "    week = temp_clean_data[0:7]  # Get the first 7 days\n",
    "    mean = np.mean(week)\n",
    "    std = np.std(week)\n",
    "    \n",
    "    weekly_mean.append(mean)\n",
    "    weekly_std.append(std)\n",
    "    \n",
    "    temp_clean_data = temp_clean_data[7:]  # remove the first 7 days\n",
    "    \n",
    "weekly_mean_2  = np.array(weekly_mean) # Mean\n",
    "weekly_std_2   = np.array(weekly_std)  # std\n",
    "\n",
    "\n",
    "# weekly_mean_1 and weekly_mean_2 have the same values\n",
    "weekly_mean_1 == weekly_mean_2\n"
   ]
  },
  {
   "cell_type": "markdown",
   "id": "3eb991d1",
   "metadata": {},
   "source": [
    "## Plots: Plot the daily cases\n",
    "The plot must include the parameters:\n",
    "* x and y labels\n",
    "* title\n",
    "* Line must be red\n",
    "* add legend"
   ]
  },
  {
   "cell_type": "code",
   "execution_count": 39,
   "id": "913e5e86",
   "metadata": {},
   "outputs": [
    {
     "data": {
      "image/png": "[encoded data removed]",
      "text/plain": [
       "<Figure size 576x576 with 1 Axes>"
      ]
     },
     "metadata": {
      "needs_background": "light"
     },
     "output_type": "display_data"
    }
   ],
   "source": [
    "plt.figure(figsize=(8,8))\n",
    "plt.plot(weekly_mean_1, color='red', label='cases')\n",
    "plt.xlabel('Weeks')\n",
    "plt.ylabel('Weekly average')\n",
    "plt.title('Weekly covid cases')\n",
    "plt.legend()\n",
    "plt.show()"
   ]
  },
  {
   "cell_type": "markdown",
   "id": "7934589f",
   "metadata": {},
   "source": [
    "## Plots: Plot the daily cases\n",
    "Including the paramters of the previous exercise, plot weekly and standar deviation in the same plot."
   ]
  },
  {
   "cell_type": "code",
   "execution_count": 43,
   "id": "2c5cea18",
   "metadata": {},
   "outputs": [
    {
     "data": {
      "image/png": "[encoded data removed]",
      "text/plain": [
       "<Figure size 576x576 with 1 Axes>"
      ]
     },
     "metadata": {
      "needs_background": "light"
     },
     "output_type": "display_data"
    }
   ],
   "source": [
    "plt.figure(figsize=(8,8))\n",
    "ax = plt.subplot(1,1,1)\n",
    "ax.plot(weekly_mean_1, color='red', label='cases')\n",
    "ax.plot(weekly_std_1, color='black', label='cases')\n",
    "\n",
    "plt.xlabel('Weeks')\n",
    "plt.ylabel('Weekly average')\n",
    "plt.title('Weekly covid cases')\n",
    "plt.legend()\n",
    "plt.show()"
   ]
  },
  {
   "cell_type": "markdown",
   "id": "d6b2e20e",
   "metadata": {},
   "source": [
    "## 4.2 Matlab\n",
    "Repeate the same analysis on Matlab. With the command below download the data:\n",
    "\n",
    "```R\n",
    "url = \"https://github.com/cgvalle/IIBM-BootCamp-2024/raw/main/assets/D3/daily_cases.mat\"\n",
    "websave('daily_cases.mat', url)\n",
    "```\n",
    "\n",
    "**HINT: You may want to search how to load .mat files!**\n",
    "\n",
    "When you finish, please copy and paste your code here."
   ]
  },
  {
   "cell_type": "markdown",
   "id": "a604b0db",
   "metadata": {},
   "source": [
    "### weekly mean and std\n",
    "```R\n",
    "clc        % clears terminal\n",
    "clear      % clears workspace variables\n",
    "close all  % closes all open figures\n",
    "\n",
    "\n",
    "data = load(\"daily_cases.mat\");\n",
    "data = data.dailycases ;\n",
    "\n",
    "% SOLUTION 1\n",
    "weekly_mean = [];\n",
    "weekly_std = [];\n",
    "\n",
    "start_index = 1;\n",
    "end_index = 7;\n",
    "step = 7;\n",
    "\n",
    "cases = data(:, 2);\n",
    "\n",
    "while end_index < length(cases)\n",
    "    week = cases(start_index:end_index);\n",
    "    \n",
    "    mean_value = mean(week);\n",
    "    std_value = std(week);\n",
    "    \n",
    "    weekly_mean = [weekly_mean; mean_value] ; \n",
    "    weekly_std = [weekly_std; std_value];\n",
    "    \n",
    "    start_index = start_index + step;\n",
    "    end_index = end_index  + step;\n",
    "    \n",
    "end\n",
    "\n",
    "weekly_mean_1 = weekly_mean;\n",
    "weekly_std_1 = weekly_std;\n",
    "\n",
    "\n",
    "% SOLUTION 2\n",
    "weekly_mean = [];\n",
    "weekly_std = [];\n",
    "\n",
    "temp_cases = cases;\n",
    "while length(temp_cases) >= 7\n",
    "    week = temp_cases(1:7);  % Get the first 7 days\n",
    "    \n",
    "    mean_value = mean(week);\n",
    "    std_value = std(week);\n",
    "    \n",
    "    weekly_mean = [weekly_mean; mean_value];\n",
    "    weekly_std = [weekly_std; std_value];\n",
    "    \n",
    "    temp_cases = temp_cases(8:end) ; \n",
    "end\n",
    "\n",
    "weekly_mean_2 =weekly_mean;\n",
    "weekly_std_2 = weekly_std;\n",
    "\n",
    "\n",
    "% weekly_mean_1 and weekly_mean_2 have the same values\n",
    "weekly_mean_2 == weekly_mean_1\n",
    "\n",
    "```\n",
    "\n",
    "### Plot daily cases\n",
    "\n",
    "```R\n",
    "figure\n",
    "plot(weekly_mean_1, color='r')\n",
    "xlabel('Weeks')\n",
    "ylabel('Weekly average')\n",
    "legend('cases')\n",
    "title('Weekly covid cases')\n",
    "````\n",
    "\n",
    "### Plot daily and std cases\n",
    "\n",
    "```R\n",
    "figure\n",
    "hold on\n",
    "plot(weekly_mean_1, color='r')\n",
    "plot(weekly_std_1, color='black')\n",
    "hold off\n",
    "xlabel('Weeks')\n",
    "ylabel('Weekly average')\n",
    "legend('cases')\n",
    "title('Weekly covid cases')\n",
    "```\n",
    "\n"
   ]
  },
  {
   "cell_type": "markdown",
   "id": "85039b3e",
   "metadata": {},
   "source": [
    "# 4. Don't forget to send your work!"
   ]
  },
  {
   "cell_type": "markdown",
   "id": "32f3daf9",
   "metadata": {},
   "source": [
    "Please don't forget to send your work to give you feedback about your progress to this [form](https://forms.gle/sME7JXuoB4ztMCFq6). To send it, you need to download the Notebook from Colab's webpage and upload it in the last question of the form.\n"
   ]
  },
  {
   "cell_type": "code",
   "execution_count": null,
   "id": "c35afac3",
   "metadata": {},
   "outputs": [],
   "source": []
  }
 ],
 "metadata": {
  "kernelspec": {
   "display_name": "Python 3 (ipykernel)",
   "language": "python",
   "name": "python3"
  },
  "language_info": {
   "codemirror_mode": {
    "name": "ipython",
    "version": 3
   },
   "file_extension": ".py",
   "mimetype": "text/x-python",
   "name": "python",
   "nbconvert_exporter": "python",
   "pygments_lexer": "ipython3",
   "version": "3.11.4"
  }
 },
 "nbformat": 4,
 "nbformat_minor": 5
}
