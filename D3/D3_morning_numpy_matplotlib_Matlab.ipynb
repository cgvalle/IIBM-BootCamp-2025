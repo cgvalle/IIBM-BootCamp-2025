{
 "cells": [
  {
   "cell_type": "markdown",
   "id": "413e62f7",
   "metadata": {},
   "source": [
    "## IIBM Bootcamp 2025: Day 3 Morning"
   ]
  },
  {
   "cell_type": "markdown",
   "id": "033bcff5",
   "metadata": {},
   "source": [
    "### Instructors Carlos Valle (cgvalle@uc.cl) and Nicolás Garrido (nagarrido@uc.cl)\n"
   ]
  },
  {
   "cell_type": "markdown",
   "id": "e620e2c2",
   "metadata": {},
   "source": [
    "This jupyter noteboook will cover the use of the NumPy and Matplotlib Python libraries and the Matlab equivalence. \n",
    "\n",
    "### Day Agenda:\n",
    "\n",
    "***Morning***\n",
    "1. Working with NumPy\n",
    "    * Arrays\n",
    "    * Vector operations\n",
    "    * Matrix operations\n",
    "    * point-wise operations\n",
    "2. Working with Matplotlib\n",
    "    * Anatomy of a figure\n",
    "    * Fundamental principles of ploting library\n",
    "    * Design of a figure\n",
    "    * Types of figures\n",
    "    \n",
    "3. Introduction to Matlab\n",
    "    * Understanding the GUI\n",
    "    * Vectors and Matrix\n",
    "    * Plots\n",
    "\n",
    "    \n",
    "***Afternoon***\n",
    "\n",
    "4. Group Project\n",
    "    * Working with real-world data\n",
    "\n",
    "\n",
    "\n"
   ]
  },
  {
   "cell_type": "markdown",
   "id": "05c2bbd9",
   "metadata": {},
   "source": [
    "# 1. Working with NumPy"
   ]
  },
  {
   "cell_type": "markdown",
   "id": "0165abc6",
   "metadata": {},
   "source": [
    "NumPy is a Python library used for working with arrays (Matrix and Vectors) that contain numerical data (`float`, `int`). It is one of the most popular packages for scientific computing in Python. It provides multidimensional array definitions, optimizes execution code and several handy functions that are common while working with arrays."
   ]
  },
  {
   "cell_type": "markdown",
   "id": "be888112",
   "metadata": {},
   "source": [
    "Since NumPy is an external package to Python, it needs to be installed. Fortunately, Google Colab provides it by default. If it is not installed, you can installed running `pip install numpy` in your computer terminal. Let's see how to use it!."
   ]
  },
  {
   "cell_type": "markdown",
   "id": "8a766ebe",
   "metadata": {},
   "source": [
    "First it needs to be imported with the line `import numpy`. However, it is common for this library to be loaded as `import numpy as np`, where now you can use it by only typing `np`."
   ]
  },
  {
   "cell_type": "code",
   "execution_count": null,
   "id": "dfce6977",
   "metadata": {},
   "outputs": [],
   "source": [
    "import numpy as np  # NumPy is now imported and ready to be use"
   ]
  },
  {
   "cell_type": "markdown",
   "id": "e89db439",
   "metadata": {},
   "source": [
    "As mentioned before, NumPy is the defacto library for working with arrays. Let's create one:"
   ]
  },
  {
   "cell_type": "code",
   "execution_count": null,
   "id": "6ad0dc8c",
   "metadata": {},
   "outputs": [],
   "source": [
    "# Out first numpy array\n",
    "example_array = np.array([1, 2, 3, 4])"
   ]
  },
  {
   "cell_type": "markdown",
   "id": "b1ddc627",
   "metadata": {},
   "source": [
    "The variable `first_array` has a vector with the elements `[1, 2, 3, 4]`. If we check the type, it corresponds to a `numpy.ndarray`. `ndarray` is the type of the variable (like `int`, `float`, `list`, `dict`, etc.)"
   ]
  },
  {
   "cell_type": "code",
   "execution_count": null,
   "id": "1d2f164d",
   "metadata": {},
   "outputs": [],
   "source": [
    "type(example_array)"
   ]
  },
  {
   "cell_type": "markdown",
   "id": "b43303ff",
   "metadata": {},
   "source": [
    "## Wait, is the input of `np.array` a list ? "
   ]
  },
  {
   "cell_type": "markdown",
   "id": "26832f5e",
   "metadata": {},
   "source": [
    "# YES!"
   ]
  },
  {
   "cell_type": "markdown",
   "id": "35339475",
   "metadata": {},
   "source": [
    "If we need a list to create and array, why don't we just use a list ?. The answer is that Python implementation of lists is not really fast. Let's test it by comparing the time of summing two arrays. We can use the magic function `%time` to obtain the execution time of the `python_sum` function."
   ]
  },
  {
   "cell_type": "code",
   "execution_count": null,
   "id": "a025ae95",
   "metadata": {},
   "outputs": [],
   "source": [
    "vector_size = 100000\n",
    "\n",
    "# Creating vectors\n",
    "list_vector_A = list(range(vector_size))  # List\n",
    "list_vector_B = list(range(10, vector_size + 10))  # List\n"
   ]
  },
  {
   "cell_type": "code",
   "execution_count": null,
   "id": "4d661abc",
   "metadata": {},
   "outputs": [],
   "source": [
    "def python_sum(vector_a, vector_b):\n",
    "    final_vector = []\n",
    "    N = len(vector_a)\n",
    "    for i in range(N):\n",
    "        final_vector.append(vector_a[i] + vector_b[i])\n",
    "\n",
    "%time python_sum(list_vector_A, list_vector_B)"
   ]
  },
  {
   "cell_type": "code",
   "execution_count": null,
   "id": "e7d7f588",
   "metadata": {},
   "outputs": [],
   "source": [
    "def numpy_sum(vector_a, vector_b):\n",
    "    final_vector = vector_a + vector_b\n",
    "\n",
    "%time numpy_sum(list_vector_A, list_vector_B)    "
   ]
  },
  {
   "cell_type": "markdown",
   "id": "885cb896",
   "metadata": {},
   "source": [
    "Not only the NumPy way was **faster**, but also a **much simpler**."
   ]
  },
  {
   "cell_type": "markdown",
   "id": "32dae938",
   "metadata": {},
   "source": [
    "## Arrays: `ndarray` objects have a lot of useful information and methods"
   ]
  },
  {
   "cell_type": "markdown",
   "id": "97a27c65",
   "metadata": {},
   "source": [
    "Some usefull methods are:\n",
    "### [`ndarray.shape` ](https://numpy.org/doc/stable/reference/generated/numpy.ndarray.shape.html) returns dimension of the array"
   ]
  },
  {
   "cell_type": "code",
   "execution_count": null,
   "id": "f7b9979f",
   "metadata": {},
   "outputs": [],
   "source": [
    "# A list only has one dimension!\n",
    "array = np.array([1, 2, 3, 4])\n",
    "array.shape"
   ]
  },
  {
   "cell_type": "code",
   "execution_count": null,
   "id": "4ed6d9c6",
   "metadata": {},
   "outputs": [],
   "source": [
    "# A list inside a list has two dimension!\n",
    "array = np.array([[1, 2, 3, 4]])\n",
    "array.shape"
   ]
  },
  {
   "cell_type": "code",
   "execution_count": null,
   "id": "da60e64d",
   "metadata": {},
   "outputs": [],
   "source": [
    "# A list inside a list inside a list has three dimensions!\n",
    "array = np.array([[[1, 2, 3, 4]]])\n",
    "array.shape"
   ]
  },
  {
   "cell_type": "markdown",
   "id": "4b6ad761",
   "metadata": {},
   "source": [
    "### [`ndarray.dtype` ](https://numpy.org/doc/stable/reference/generated/numpy.ndarray.dtype.html) returns the type of number inside"
   ]
  },
  {
   "cell_type": "code",
   "execution_count": null,
   "id": "715b0234",
   "metadata": {},
   "outputs": [],
   "source": [
    "# Since all numbers inside are int, the type is also a int\n",
    "array = np.array([[1, 2, 3, 4]])\n",
    "array.dtype"
   ]
  },
  {
   "cell_type": "code",
   "execution_count": null,
   "id": "f38c690f",
   "metadata": {},
   "outputs": [],
   "source": [
    "# Since all numbers inside are float, the type is also a float\n",
    "array = np.array([[1.0, 2.0, 3.0, 4.0]])\n",
    "array.dtype"
   ]
  },
  {
   "cell_type": "code",
   "execution_count": null,
   "id": "1a6d9978",
   "metadata": {},
   "outputs": [],
   "source": [
    "# Since one of the numbers inside is a float, the type is also a float\n",
    "array = np.array([[1.0, 2, 3, 4]])\n",
    "array.dtype"
   ]
  },
  {
   "cell_type": "markdown",
   "id": "ffd81d38",
   "metadata": {},
   "source": [
    "### [`ndarray.T` ](https://numpy.org/doc/stable/reference/generated/numpy.ndarray.T.html)  return a transpose array"
   ]
  },
  {
   "cell_type": "code",
   "execution_count": null,
   "id": "c6a1f6f2",
   "metadata": {},
   "outputs": [],
   "source": [
    "array = np.array([[1.0, 2, 3, 4]])\n",
    "print(\"Original Array dimension:\", array.shape)\n",
    "\n",
    "array_transpose = array.T\n",
    "print(\"Original Array dimension:\", array_transpose.shape)"
   ]
  },
  {
   "cell_type": "markdown",
   "id": "17c15c8d",
   "metadata": {},
   "source": [
    "## Arrays can have lots of dimension"
   ]
  },
  {
   "cell_type": "code",
   "execution_count": null,
   "id": "6f23b04a",
   "metadata": {},
   "outputs": [],
   "source": [
    "multi_dim_array = np.random.rand(4, 3, 2, 5)\n",
    "#print(multi_dim_array)\n",
    "print(multi_dim_array.shape)"
   ]
  },
  {
   "cell_type": "markdown",
   "id": "8c4bb215",
   "metadata": {},
   "source": [
    "## [Array Multiplication](http://matrixmultiplication.xyz/)"
   ]
  },
  {
   "cell_type": "markdown",
   "id": "2e18e32e",
   "metadata": {},
   "source": [
    "![multiplication](https://raw.githubusercontent.com/cgvalle/IIBM-BootCamp-2024/main/assets/D3/matrix_mul.png)"
   ]
  },
  {
   "cell_type": "markdown",
   "id": "edeeb990",
   "metadata": {},
   "source": [
    "## Vector normal multiplication"
   ]
  },
  {
   "cell_type": "code",
   "execution_count": null,
   "id": "312b4e99",
   "metadata": {},
   "outputs": [],
   "source": [
    "# Normal multiplication\n",
    "array_1 = np.array([[1, 2, 3, 4]])\n",
    "array_2 = np.array([[1, 2, 3, 4]]).T\n",
    "np.matmul(array_1, array_2)"
   ]
  },
  {
   "cell_type": "markdown",
   "id": "19d81ba3",
   "metadata": {},
   "source": [
    "## Vector dot multiplication"
   ]
  },
  {
   "cell_type": "code",
   "execution_count": null,
   "id": "54dd313c",
   "metadata": {},
   "outputs": [],
   "source": [
    "array_1 = np.array([[1, 2, 3, 4]])\n",
    "array_2 = np.array([[1, 2, 3, 4]])\n",
    "array_1 * array_2 # Dot product"
   ]
  },
  {
   "cell_type": "markdown",
   "id": "92b6bf01",
   "metadata": {},
   "source": [
    "## Matrix normal multiplication"
   ]
  },
  {
   "cell_type": "code",
   "execution_count": null,
   "id": "e0850a86",
   "metadata": {},
   "outputs": [],
   "source": [
    "matrix_1 = np.array([[1, 0], [0, 1]])\n",
    "matrix_2 = np.array([[4, 1], [2, 2]])\n",
    "np.matmul(matrix_1, matrix_2)"
   ]
  },
  {
   "cell_type": "markdown",
   "id": "6ee4dc1f",
   "metadata": {},
   "source": [
    "## Matrix dot multiplication"
   ]
  },
  {
   "cell_type": "code",
   "execution_count": null,
   "id": "0e8ecf41",
   "metadata": {},
   "outputs": [],
   "source": [
    "matrix_1 = np.array([[1, 0], [0, 1]])\n",
    "matrix_2 = np.array([[4, 1], [2, 2]])\n",
    "matrix_1 * matrix_2"
   ]
  },
  {
   "cell_type": "markdown",
   "id": "0bb225bf",
   "metadata": {},
   "source": [
    "Mores methods `ndarray` can be found [here](https://numpy.org/doc/stable/reference/generated/numpy.ndarray.html)"
   ]
  },
  {
   "cell_type": "markdown",
   "id": "9709bfac",
   "metadata": {},
   "source": [
    "## 1.1 Exercise "
   ]
  },
  {
   "cell_type": "markdown",
   "id": "e532928b",
   "metadata": {},
   "source": [
    "Create a numpy array with the shape and values:\n",
    "$$\n",
    "array = \n",
    "\\left [ \\begin{array}{c} \n",
    "0.8 & 1.2\\\\\n",
    "-0.4 & -0.1\\\\\n",
    "-0.6 & -0.9\n",
    "\\end{array}\\right ]\n",
    "$$ "
   ]
  },
  {
   "cell_type": "code",
   "execution_count": null,
   "id": "be0ab3ea",
   "metadata": {},
   "outputs": [],
   "source": [
    "array = \"<TODO>\""
   ]
  },
  {
   "cell_type": "markdown",
   "id": "401fe743",
   "metadata": {},
   "source": [
    "## 1.2 Exercise "
   ]
  },
  {
   "cell_type": "markdown",
   "id": "54a4cdc6",
   "metadata": {},
   "source": [
    "Sum all the elements of the previous array"
   ]
  },
  {
   "cell_type": "code",
   "execution_count": null,
   "id": "e3c6cf83",
   "metadata": {},
   "outputs": [],
   "source": [
    "array_sum = \"<TODO>\""
   ]
  },
  {
   "cell_type": "markdown",
   "id": "fded1d28",
   "metadata": {},
   "source": [
    "## 1.3 Exercise "
   ]
  },
  {
   "cell_type": "markdown",
   "id": "a56bce1f",
   "metadata": {},
   "source": [
    "Multiply the array by itself. **HINT: you may need to transpose!**"
   ]
  },
  {
   "cell_type": "code",
   "execution_count": null,
   "id": "5f020605",
   "metadata": {},
   "outputs": [],
   "source": [
    "array_multi = \"<TODO>\""
   ]
  },
  {
   "cell_type": "markdown",
   "id": "dc10e686",
   "metadata": {},
   "source": [
    "## 1.4 Exercise "
   ]
  },
  {
   "cell_type": "markdown",
   "id": "82961d0e",
   "metadata": {},
   "source": [
    "Point-wise multiplication of created array."
   ]
  },
  {
   "cell_type": "code",
   "execution_count": null,
   "id": "45ed3f61",
   "metadata": {},
   "outputs": [],
   "source": [
    "array_point = \"<TODO>\""
   ]
  },
  {
   "cell_type": "markdown",
   "id": "b237ddd6",
   "metadata": {},
   "source": [
    "# 2. Working with Matplotlib\n",
    "\n"
   ]
  },
  {
   "cell_type": "markdown",
   "id": "8895f9bd",
   "metadata": {},
   "source": [
    "# Anatomy of a figure"
   ]
  },
  {
   "cell_type": "markdown",
   "id": "6ca9471c",
   "metadata": {},
   "source": [
    "\n",
    "![](https://raw.githubusercontent.com/cgvalle/IIBM-BootCamp-2024/main/assets/D3/anatomy_of_figure.png)\n",
    "***Scientific Visualization: Python + Matplotlib, 2021 Nicolas P.Rougier.***\n",
    "Book available for free at [rougier/scientific-visualization-book](https://github.com/rougier/scientific-visualization-book)"
   ]
  },
  {
   "cell_type": "markdown",
   "id": "632f537a",
   "metadata": {},
   "source": [
    "Scientific visualization is a graphical interface\n",
    "between people and data... so be clear!\n",
    "\n",
    "Some tips to improve figure design:\n",
    "* Identify your menssage: 'A picture is worth a thousand words'\n",
    "* Know Your Audience: Know the familiarity with the plots according to field, journal, etc\n",
    "* Use Color Effectively \n",
    "* Do Not Trust the Defaults"
   ]
  },
  {
   "cell_type": "markdown",
   "id": "a9b23ffb",
   "metadata": {},
   "source": [
    "## Basic usage"
   ]
  },
  {
   "cell_type": "code",
   "execution_count": null,
   "id": "1fbcdbbd",
   "metadata": {},
   "outputs": [],
   "source": [
    "# Import libraries \n",
    "import numpy as np\n",
    "import matplotlib.pyplot as plt"
   ]
  },
  {
   "cell_type": "code",
   "execution_count": null,
   "id": "64ba07c8",
   "metadata": {},
   "outputs": [],
   "source": [
    "# Most simplest plot\n",
    "# Identify the default values \n",
    "plt.plot(range(10))\n",
    "plt.show()"
   ]
  },
  {
   "cell_type": "code",
   "execution_count": null,
   "id": "40234730",
   "metadata": {},
   "outputs": [],
   "source": [
    "# Is this plot different ?\n",
    "plt.plot(range(100))\n",
    "plt.show()"
   ]
  },
  {
   "cell_type": "markdown",
   "id": "22db9f46",
   "metadata": {},
   "source": [
    "## DESIGN OF A FIGURE - Customize your plot"
   ]
  },
  {
   "cell_type": "markdown",
   "id": "e7a4cea3",
   "metadata": {},
   "source": [
    "\n",
    "```plt.plot``` automatically create the OBJECT 'figure' and 'axes' to achieve the basic plot. \n",
    "\n",
    "Some good practices is to \n",
    "\n",
    "\n",
    "1.   Customize your plot: Define the figure and axes\n",
    "2.   Use the methods: Method will start adding plot elements (lines, images, text, etc.) to the object figure.\n",
    "\n",
    "\n",
    "So first we will create a figure ```figure_name= plt.figure(figsize=(a,b)) ``` , and the axes ```ax_name=plt.subplot(nrows,ncol,index) ```"
   ]
  },
  {
   "cell_type": "code",
   "execution_count": null,
   "id": "4b2f26fc",
   "metadata": {},
   "outputs": [],
   "source": [
    "fig1 = plt.figure(figsize=(8, 4)) "
   ]
  },
  {
   "cell_type": "code",
   "execution_count": null,
   "id": "0e20cad1",
   "metadata": {},
   "outputs": [],
   "source": [
    "ax1 = plt.subplot(1, 1, 1)"
   ]
  },
  {
   "cell_type": "markdown",
   "id": "9dd650a9",
   "metadata": {},
   "source": [
    "We can define an array with ``` np.linspace(start,stop,num) ```. Return evenly spaced numbers [np.linspace](https://numpy.org/doc/stable/reference/generated/numpy.linspace.html)"
   ]
  },
  {
   "cell_type": "code",
   "execution_count": null,
   "id": "a4d477b9",
   "metadata": {},
   "outputs": [],
   "source": [
    "# array\n",
    "x = np.linspace(0, 10, 100)\n",
    "print(x)"
   ]
  },
  {
   "cell_type": "markdown",
   "id": "ae0b1723",
   "metadata": {},
   "source": [
    "And plot it with the default values"
   ]
  },
  {
   "cell_type": "code",
   "execution_count": null,
   "id": "b30331c6",
   "metadata": {},
   "outputs": [],
   "source": [
    "fig1= plt.figure()\n",
    "ax1=plt.subplot(1, 1, 1)\n",
    "linea= ax1.plot(x)\n",
    "plt.show()"
   ]
  },
  {
   "cell_type": "markdown",
   "id": "e2e36b5c",
   "metadata": {},
   "source": [
    "In order to control the AXES limits of the figure; we add ```ax.set_xlim() ``` and  ```ax.set_ylim() ```"
   ]
  },
  {
   "cell_type": "code",
   "execution_count": null,
   "id": "53c93173",
   "metadata": {},
   "outputs": [],
   "source": [
    "fig1= plt.figure()\n",
    "ax1=plt.subplot(1, 1, 1)\n",
    "linea= ax1.plot(x)\n",
    "ax1.set_xlim(0, 100)\n",
    "ax1.set_ylim(0, 1)\n",
    "plt.show()"
   ]
  },
  {
   "cell_type": "code",
   "execution_count": null,
   "id": "39e1e77b",
   "metadata": {},
   "outputs": [],
   "source": [
    "# With the same numpy array information we can create a sin wave\n",
    "fig2= plt.figure(figsize=(8, 4)) \n",
    "ax2=plt.subplot(1, 1, 1)\n",
    "line=ax2.plot(x, np.sin(x))\n",
    "ax2.set_xlim(0, 10)\n",
    "ax2.set_ylim(-1, 1)\n",
    "plt.show()"
   ]
  },
  {
   "cell_type": "markdown",
   "id": "3a1cbaa6",
   "metadata": {},
   "source": [
    "```np.sin()``` calculate the trigonometric sine of the variable for all the elements. \n",
    "\n",
    "For a better explanation, we add titles, legends, and labels"
   ]
  },
  {
   "cell_type": "code",
   "execution_count": null,
   "id": "84b3d7f7",
   "metadata": {},
   "outputs": [],
   "source": [
    "fig2= plt.figure(figsize=(8, 4)) \n",
    "ax2=plt.subplot(1, 1, 1)\n",
    "line=ax2.plot(x, np.sin(x))\n",
    "plt.title('Sine Plot')\n",
    "plt.xlabel('x-axis')\n",
    "plt.ylabel('y-axis')\n",
    "ax2.set_xlim(0, 10)\n",
    "ax2.set_ylim(-1, 1)\n",
    "plt.show()"
   ]
  },
  {
   "cell_type": "code",
   "execution_count": null,
   "id": "497a2a1b",
   "metadata": {},
   "outputs": [],
   "source": [
    "# We can plot both figures in one plot\n",
    "\n",
    "plt.figure(figsize=(8, 4)) #generate the figure\n",
    "ax1=plt.subplot(1, 2, 1) #first subplot\n",
    "line=ax1.plot(x, np.sin(x))\n",
    "ax2=plt.subplot(1, 2, 2) #second subplot\n",
    "line=ax2.plot(x, np.sin(x))\n",
    "plt.suptitle('Both sines plots') # a title\n",
    "plt.show()"
   ]
  },
  {
   "cell_type": "markdown",
   "id": "f9969aea",
   "metadata": {},
   "source": [
    "## Colors\n",
    "\n",
    "*Use Color Effectively*\n"
   ]
  },
  {
   "cell_type": "code",
   "execution_count": null,
   "id": "930e45d5",
   "metadata": {},
   "outputs": [],
   "source": [
    "## ADD COLORS to the plots\n",
    "fig3= plt.figure(figsize=(8,4)) \n",
    "ax3=plt.subplot(1,1,1)\n",
    "line=ax3.plot(x, np.sin(x), color='green', marker='o') #here we add green markers to the line\n",
    "plt.title('Sine Plot with blue dots')\n",
    "plt.xlabel('x-axis')\n",
    "plt.ylabel('y-axis')\n",
    "ax3.set_xlim(0,10)\n",
    "ax3.set_ylim(-1,1)\n",
    "plt.show()"
   ]
  },
  {
   "cell_type": "code",
   "execution_count": null,
   "id": "954803e1",
   "metadata": {},
   "outputs": [],
   "source": [
    "## ADD COLORS to the plots\n",
    "fig3= plt.figure(figsize=(8,4)) \n",
    "ax3=plt.subplot(1,1,1)\n",
    "line=ax3.plot(x, np.sin(x), color='green', marker='o') #here we add green markers to the line\n",
    "line=ax3.plot(x, np.cos(x), color='pink', marker='*') \n",
    "plt.title('Sine Plot with blue dots')\n",
    "plt.xlabel('x-axis')\n",
    "plt.ylabel('y-axis')\n",
    "ax3.set_xlim(0,10)\n",
    "ax3.set_ylim(-1,1)\n",
    "plt.show()"
   ]
  },
  {
   "cell_type": "code",
   "execution_count": null,
   "id": "1b00ff50",
   "metadata": {},
   "outputs": [],
   "source": [
    "inicio = np.array([1,2,3,4,5]) \n",
    "final = np.array([5,6,7,8,9]) \n",
    "\n",
    "plt.plot(inicio, inicio, color='red') \n",
    "plt.plot(final, final, color='darkblue') \n",
    " \n",
    "plt.show() "
   ]
  },
  {
   "cell_type": "markdown",
   "id": "43aac2c6",
   "metadata": {},
   "source": [
    "We also can plot a image of the data by using ```imshow```\n",
    "Check [imshow](https://matplotlib.org/stable/api/_as_gen/matplotlib.pyplot.imshow.html)"
   ]
  },
  {
   "cell_type": "code",
   "execution_count": null,
   "id": "cf2a284d",
   "metadata": {},
   "outputs": [],
   "source": [
    "# PLOT a the result of a MARTRIX multiplication\n",
    "matrix_1 = np.array([[1, 0], [0, 1], [5, 6]]) # (3,2)\n",
    "matrix_2 = np.array([[4, 1], [2, 2]]) # (2,2)\n",
    "data = np.matmul(matrix_1, matrix_2)\n",
    "\n",
    "plt.imshow(data, cmap='hot') #plot the data\n",
    "plt.colorbar() # add the colorbar"
   ]
  },
  {
   "cell_type": "markdown",
   "id": "943a528d",
   "metadata": {},
   "source": [
    "## Excersise 2.1 Plot multiple cos and sin functions"
   ]
  },
  {
   "cell_type": "markdown",
   "id": "9b18f19d",
   "metadata": {},
   "source": [
    "![](https://raw.githubusercontent.com/cgvalle/IIBM-BootCamp-2024/main/assets/D3/a_nice_plot.png)\n",
    "\n",
    "From the code below create a similar plot as the one shown above."
   ]
  },
  {
   "cell_type": "code",
   "execution_count": null,
   "id": "9a8b7976",
   "metadata": {},
   "outputs": [],
   "source": [
    "# Initialize the figure\n",
    "'<TO DO>'=plt.figure(figsize=('<TO DO>'))\n",
    "ax=plt.subplot('<TO DO>')\n",
    "\n",
    "\n",
    "# Generate content \n",
    "circle= np.linspace('<TO DO>', 2*np.pi, '<TO DO>')\n",
    "line=ax.plot(circle, np.sin(circle), color='TO DO')\n",
    "ax.set_xlim('<TO DO>')\n",
    "ax.set_ylim('<TO DO>')\n",
    "\n",
    "\n",
    "# Add title and labels\n",
    "plt.title('<TO DO>')\n",
    "plt.xlabel('<TO DO>')\n",
    "plt.ylabel('<TO DO>')\n",
    "plt.legend('<TO DO>')\n",
    "\n",
    "# Display plot\n",
    "'<TO DO>'"
   ]
  },
  {
   "cell_type": "markdown",
   "id": "504db30f",
   "metadata": {},
   "source": [
    "# 3. Introduction to Matlab"
   ]
  },
  {
   "cell_type": "markdown",
   "id": "1bf85b42",
   "metadata": {},
   "source": [
    "![](https://raw.githubusercontent.com/cgvalle/IIBM-BootCamp-2024/main/assets/D3/matlab_logo.png)"
   ]
  },
  {
   "cell_type": "markdown",
   "id": "63f5c86e",
   "metadata": {},
   "source": [
    "Matlab (**MAT**trix **LAB**oratory) is a proprietary programing language. Unlike Python, a suscription is associated to the base program and its toolboxes (or libraries).A one moth free trial of matlab can be downloaded directly from the official [MathWorks page](https://la.mathworks.com/campaigns/products/trials.html).\n",
    "\n",
    "\n",
    "\n",
    "![](https://raw.githubusercontent.com/cgvalle/IIBM-BootCamp-2024/main/assets/D3/matlab_environment.png)\n",
    "\n",
    "\n",
    "\n",
    "\n",
    "Matlab provides a GUI by default. It is composed of:\n",
    "\n",
    "    * Current folder: Aside from default funcitons, Matlab can only find code in the current folder. Make you that the scripts, images, data, etc. are in the current folder, otherwise you will need additional steps for Matlab to find them.\n",
    "    \n",
    "    * File editor Window: Here you can write code!\n",
    "    \n",
    "    * Workspace: This window shows all defined variables. Matlab will store variable values even if the variable is deleted from the script. You need be aware of persistant variables and what effect they can have on the code.\n",
    "    \n",
    "    * Command Window: You can run commands or functions here to add functions or variables that you don't want in your script. Useful functions like `whos`, `clc` or `clear` are usually use here."
   ]
  },
  {
   "cell_type": "markdown",
   "id": "3c67d835",
   "metadata": {},
   "source": [
    "## How similar it is to python ?  A lot\n"
   ]
  },
  {
   "cell_type": "markdown",
   "id": "8d6d3b34",
   "metadata": {},
   "source": [
    "![](https://raw.githubusercontent.com/cgvalle/IIBM-BootCamp-2024/main/assets/D3/matlab_python.png)\n",
    "Source: https://realpython.com/matlab-vs-python\n",
    "\n"
   ]
  },
  {
   "cell_type": "markdown",
   "id": "d962bd4b",
   "metadata": {},
   "source": [
    "## Comments \n",
    "\n",
    "<table style='font-family:\"Courier New\", Courier, monospace; font-size:150%;width:100%'>\n",
    "<tr>\n",
    "<th style=\"text-align:left\" > Matlab </th>\n",
    "<th style=\"text-align:left\" > Python </th>\n",
    "</tr>\n",
    "<tr>\n",
    "<td style=\"text-align:left;vertical-align:top;padding:0\" >\n",
    "\n",
    "       \n",
    "```c++\n",
    "array = [1, 2, 3, 4]\n",
    "% new_array = array + 2\n",
    "```\n",
    "\n",
    "</td>\n",
    "<td style=\"text-align:left;vertical-align:top;padding:0\">\n",
    "\n",
    "```python\n",
    "array = [1, 2, 3, 4]\n",
    "# new_array = array + 2\n",
    "```\n",
    "\n",
    "</td>\n",
    "</tr>\n",
    "</table>\n",
    "\n",
    "`%` simbol is used for comments Matlab and `#` simbol for Python.\n",
    "\n",
    "<hr style=\"border:1px solid gray\">\n"
   ]
  },
  {
   "cell_type": "markdown",
   "id": "01c9bc28",
   "metadata": {},
   "source": [
    "## Arrays \n",
    "\n",
    "<table style='font-family:\"Courier New\", Courier, monospace; font-size:120%;width:100%'>\n",
    "<tr>\n",
    "<th style=\"text-align:left\" > Matlab </th>\n",
    "<th style=\"text-align:left\" > Python </th>\n",
    "</tr>\n",
    "<tr>\n",
    "<td style=\"text-align:left;vertical-align:top;padding:0\" >\n",
    "\n",
    "       \n",
    "```c++\n",
    "vector = [1 2 3 4] % \",\" is not mandatory\n",
    "```\n",
    "\n",
    "</td>\n",
    "<td style=\"text-align:left;vertical-align:top;padding:0\">\n",
    "\n",
    "```python\n",
    "array = [1, 2, 3, 4] # \",\" is mandatory\n",
    "```\n",
    "\n",
    "</td>\n",
    "</tr>\n",
    "</table>\n",
    "\n",
    "<hr style=\"border:1px solid gray\">\n"
   ]
  },
  {
   "cell_type": "markdown",
   "id": "fac06454",
   "metadata": {},
   "source": [
    "## Matrixs \n",
    "\n",
    "<table style='font-family:\"Courier New\", Courier, monospace; font-size:100%;width:100%'>\n",
    "<tr>\n",
    "<th style=\"text-align:left\" > Matlab </th>\n",
    "<th style=\"text-align:left\" > Python </th>\n",
    "</tr>\n",
    "<tr>\n",
    "<td style=\"text-align:left;vertical-align:top;padding:0\" >\n",
    "\n",
    "       \n",
    "```c++\n",
    "matrix = [1 2 3; 4 5 6; 7 8 9] % 3x3 matrix \n",
    "```\n",
    "\n",
    "</td>\n",
    "<td style=\"text-align:left;vertical-align:top;padding:0\">\n",
    "\n",
    "```python\n",
    "import numpy as np\n",
    "# 3x3 matrix\n",
    "matrix = np.array([[1, 2, 3], [4, 5, 6], [7, 8, 9]])\n",
    "```\n",
    "\n",
    "</td>\n",
    "</tr>\n",
    "</table>\n",
    "Matlab is designed for mathematical computations, while python needs additional steps as list don't have the properties of matrix by default and `Numpy` library needs to be use.\n",
    "<hr style=\"border:1px solid gray\">\n"
   ]
  },
  {
   "cell_type": "markdown",
   "id": "17dc3861",
   "metadata": {},
   "source": [
    "## Starting index \n",
    "\n",
    "<table style='font-family:\"Courier New\", Courier, monospace; font-size:100%;width:100%'>\n",
    "<tr>\n",
    "<th style=\"text-align:left\" > Matlab </th>\n",
    "<th style=\"text-align:left\" > Python </th>\n",
    "</tr>\n",
    "<tr>\n",
    "<td style=\"text-align:left;vertical-align:top;padding:0\" >\n",
    "\n",
    "       \n",
    "```c++\n",
    "% First index is 1\n",
    "array = [23 75 32 7] \n",
    "array(2) % is 75\n",
    "    \n",
    "```\n",
    "\n",
    "</td>\n",
    "<td style=\"text-align:left;vertical-align:top;padding:0\">\n",
    "\n",
    "```python\n",
    "# First index is 0\n",
    "array = [ 23, 75, 32, 7]\n",
    "array[2] # is 32\n",
    "```\n",
    "\n",
    "</td>\n",
    "</tr>\n",
    "</table>\n",
    "\n",
    "Arrays starts at 1 in Matlab while in Python at 0\n",
    "<hr style=\"border:1px solid gray\">\n",
    "\n"
   ]
  },
  {
   "cell_type": "markdown",
   "id": "7dae09ab",
   "metadata": {},
   "source": [
    "## Slicing\n",
    "\n",
    "<table style='font-family:\"Courier New\", Courier, monospace; font-size:100%;width:100%'>\n",
    "<tr>\n",
    "<th style=\"text-align:left\" > Matlab </th>\n",
    "<th style=\"text-align:left\" > Python </th>\n",
    "</tr>\n",
    "<tr>\n",
    "<td style=\"text-align:left;vertical-align:top;padding:0\" >\n",
    "\n",
    "       \n",
    "```c++\n",
    "% First index is 1\n",
    "array = [23 75 32 7] \n",
    "array(2) % () round parentesis\n",
    "    \n",
    "```\n",
    "\n",
    "</td>\n",
    "<td style=\"text-align:left;vertical-align:top;padding:0\">\n",
    "\n",
    "```python\n",
    "# First index is 0\n",
    "array = [ 23, 75, 32, 7]\n",
    "array[4] # brackets\n",
    "```\n",
    "\n",
    "</td>\n",
    "</tr>\n",
    "</table>\n",
    "\n",
    "To call a value in a array matlab uses `()` while python `[]`. The funcionality is the same but the syntaxis is different. \n",
    "<hr style=\"border:1px solid gray\">\n"
   ]
  },
  {
   "cell_type": "markdown",
   "id": "d7724c72",
   "metadata": {},
   "source": [
    "## Functions \n",
    "\n",
    "<table style='font-family:\"Courier New\", Courier, monospace; font-size:100%;width:100%'>\n",
    "<tr>\n",
    "<th style=\"text-align:left\" > Matlab </th>\n",
    "<th style=\"text-align:left\" > Python </th>\n",
    "</tr>\n",
    "<tr>\n",
    "<td style=\"text-align:left;vertical-align:top;padding:0\" >\n",
    "\n",
    "       \n",
    "```c++\n",
    "sumar(1,2) \n",
    "    \n",
    "function total = sumar(x, y)\n",
    "    total = x + y\n",
    "end\n",
    "```\n",
    "\n",
    "</td>\n",
    "<td style=\"text-align:left;vertical-align:top;padding:0\">\n",
    "\n",
    "```python\n",
    "def sumar(x, y):\n",
    "    return x + y\n",
    "    \n",
    "sumar(1,2)\n",
    "```\n",
    "\n",
    "</td>\n",
    "</tr>\n",
    "</table>\n",
    "\n",
    "<hr style=\"border:1px solid gray\">\n",
    "\n",
    "Matlab functions must be define at the bottom of the script (`.m` extension) and require a `end` to indicate the end of the function. Unlike Python, indentation is not a concern on Matlab."
   ]
  },
  {
   "cell_type": "markdown",
   "id": "1985da4c",
   "metadata": {},
   "source": [
    "We just cover the essential syntaxis differences between both languages. There are more differences that you will find while experimenting with the code!. \n",
    "\n",
    "**<p style=\"text-align: center;font-size:220%\">Syntaxis is different but logic is the same!**"
   ]
  },
  {
   "cell_type": "markdown",
   "id": "6a9114bc",
   "metadata": {},
   "source": [
    "# Array and Matrix multiplication on Matlab\n",
    "\n",
    "\n",
    "\n",
    "### Vector normal Multiplication\n",
    "```R\n",
    "arr_1 = [1 2 3]     % shape (1, 3)\n",
    "arr_2 = [4 5 6]    % shape (1, 3)\n",
    "arr_1 * arr_2       % -> (1,3) x (1,3) multiplication is not possible\n",
    "arr_1 * arr_2.'       % -> (1,3) x (3,1) = 32\n",
    "```\n",
    "`.'` is use to transpose arr_2. \n",
    "\n",
    "\n",
    "### Vector dot (pointwise) multiplication\n",
    "```R\n",
    "arr_1 = [1 2 3]     % shape (1, 3)\n",
    "arr_2 = [4, 5 6]    % shape (1, 3)\n",
    "arr_1 .* arr_2      % -> [4 10 18]\n",
    "```\n",
    "\n",
    "\n",
    "## Matrix normal multiplication\n",
    "```R\n",
    "mat_1 = [1 2 3; 4 5 6; 6 7 8]\n",
    "mat_2 = [3 4; 2 4; 6 8]\n",
    "mat_1 * mat_2       % (3,3) x (3,2) -> (3,2) = [25 36; 58 84; 80 116]\n",
    "```\n",
    "\n",
    "\n",
    "## Matrix dot (pointwise) multiplication\n",
    "```R\n",
    "mat_1 = [1 2; 4 5]\n",
    "mat_2 = [3 4; 2 4]\n",
    "mat_1 .* mat_2       % (2,2) x (2,2) -> (2,2) = [7 12 ; 22 36]\n",
    "```\n"
   ]
  },
  {
   "cell_type": "markdown",
   "id": "15ea2181",
   "metadata": {},
   "source": [
    "# Ploting"
   ]
  },
  {
   "cell_type": "markdown",
   "id": "dffedf7e",
   "metadata": {},
   "source": [
    "Matlab doesn't require a external ploting library. Similar to Python, let's start by defining the `x` and `y = f(x)` values\n",
    "\n",
    "```R\n",
    "x = [0:100]  # array with numbers from 0 to 100\n",
    "y = cos(x/10)\n",
    "```\n",
    "\n",
    "To create a plot, just call the `plot` function.\n",
    "```R\n",
    "plot(x, y)\n",
    "```\n",
    "\n",
    "![](https://raw.githubusercontent.com/cgvalle/IIBM-BootCamp-2024/main/assets/D3/matlab_plot.png)\n",
    "\n",
    "Let's customize the figure\n",
    "```R\n",
    "plot(x,y)\n",
    "xlabel('X axes')\n",
    "ylabel('Y label')\n",
    "title('A nice title')\n",
    "xlim([0, 50])\n",
    "```\n",
    "\n",
    "![](https://raw.githubusercontent.com/cgvalle/IIBM-BootCamp-2024/main/assets/D3/matlab_plot_custom.png)\n",
    "\n",
    "### Multiple functions on the same figure\n",
    "\n",
    "\n",
    "\n",
    "```R\n",
    "x = 1:100\n",
    "y1 = cos(x/10)\n",
    "y2 = sin(x/10)\n",
    "\n",
    "plot(x, y1, x, y2)\n",
    "xlabel('X axes')\n",
    "ylabel('Y label')\n",
    "title('A nice title')\n",
    "xlim([0, 50])\n",
    "```\n",
    "\n",
    "\n",
    "![](https://raw.githubusercontent.com/cgvalle/IIBM-BootCamp-2024/main/assets/D3/matlab_plot_multiple.png)\n"
   ]
  },
  {
   "cell_type": "markdown",
   "id": "b9efbc45",
   "metadata": {},
   "source": [
    "# Don't forget to send your work!"
   ]
  },
  {
   "cell_type": "markdown",
   "id": "05693054",
   "metadata": {},
   "source": [
    "Please don't forget to send your work to give you feedback about your progress to this [form](https://forms.gle/sME7JXuoB4ztMCFq6). To send it, you need to download the Notebook from Colab's webpage and upload it in the last question of the form.\n"
   ]
  },
  {
   "cell_type": "code",
   "execution_count": null,
   "id": "6543f531",
   "metadata": {},
   "outputs": [],
   "source": []
  }
 ],
 "metadata": {
  "kernelspec": {
   "display_name": "Python 3 (ipykernel)",
   "language": "python",
   "name": "python3"
  },
  "language_info": {
   "codemirror_mode": {
    "name": "ipython",
    "version": 3
   },
   "file_extension": ".py",
   "mimetype": "text/x-python",
   "name": "python",
   "nbconvert_exporter": "python",
   "pygments_lexer": "ipython3",
   "version": "3.11.4"
  }
 },
 "nbformat": 4,
 "nbformat_minor": 5
}
